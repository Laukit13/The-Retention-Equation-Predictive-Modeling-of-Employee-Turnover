{
 "cells": [
  {
   "cell_type": "code",
   "execution_count": 166,
   "metadata": {},
   "outputs": [],
   "source": [
    "import pandas as pd\n",
    "from matplotlib import pyplot as plt\n",
    "import numpy as np\n",
    "import warnings\n",
    "import seaborn as sns\n",
    "warnings.filterwarnings('ignore')"
   ]
  },
  {
   "cell_type": "code",
   "execution_count": 167,
   "metadata": {},
   "outputs": [
    {
     "data": {
      "text/html": [
       "<div>\n",
       "<style scoped>\n",
       "    .dataframe tbody tr th:only-of-type {\n",
       "        vertical-align: middle;\n",
       "    }\n",
       "\n",
       "    .dataframe tbody tr th {\n",
       "        vertical-align: top;\n",
       "    }\n",
       "\n",
       "    .dataframe thead th {\n",
       "        text-align: right;\n",
       "    }\n",
       "</style>\n",
       "<table border=\"1\" class=\"dataframe\">\n",
       "  <thead>\n",
       "    <tr style=\"text-align: right;\">\n",
       "      <th></th>\n",
       "      <th>Age</th>\n",
       "      <th>Attrition</th>\n",
       "      <th>BusinessTravel</th>\n",
       "      <th>DailyRate</th>\n",
       "      <th>Department</th>\n",
       "      <th>DistanceFromHome</th>\n",
       "      <th>Education</th>\n",
       "      <th>EducationField</th>\n",
       "      <th>EmployeeCount</th>\n",
       "      <th>EmployeeNumber</th>\n",
       "      <th>...</th>\n",
       "      <th>RelationshipSatisfaction</th>\n",
       "      <th>StandardHours</th>\n",
       "      <th>StockOptionLevel</th>\n",
       "      <th>TotalWorkingYears</th>\n",
       "      <th>TrainingTimesLastYear</th>\n",
       "      <th>WorkLifeBalance</th>\n",
       "      <th>YearsAtCompany</th>\n",
       "      <th>YearsInCurrentRole</th>\n",
       "      <th>YearsSinceLastPromotion</th>\n",
       "      <th>YearsWithCurrManager</th>\n",
       "    </tr>\n",
       "  </thead>\n",
       "  <tbody>\n",
       "    <tr>\n",
       "      <th>0</th>\n",
       "      <td>41</td>\n",
       "      <td>Yes</td>\n",
       "      <td>Travel_Rarely</td>\n",
       "      <td>1102</td>\n",
       "      <td>Sales</td>\n",
       "      <td>1</td>\n",
       "      <td>2</td>\n",
       "      <td>Life Sciences</td>\n",
       "      <td>1</td>\n",
       "      <td>1</td>\n",
       "      <td>...</td>\n",
       "      <td>1</td>\n",
       "      <td>80</td>\n",
       "      <td>0</td>\n",
       "      <td>8</td>\n",
       "      <td>0</td>\n",
       "      <td>1</td>\n",
       "      <td>6</td>\n",
       "      <td>4</td>\n",
       "      <td>0</td>\n",
       "      <td>5</td>\n",
       "    </tr>\n",
       "    <tr>\n",
       "      <th>1</th>\n",
       "      <td>49</td>\n",
       "      <td>No</td>\n",
       "      <td>Travel_Frequently</td>\n",
       "      <td>279</td>\n",
       "      <td>Research &amp; Development</td>\n",
       "      <td>8</td>\n",
       "      <td>1</td>\n",
       "      <td>Life Sciences</td>\n",
       "      <td>1</td>\n",
       "      <td>2</td>\n",
       "      <td>...</td>\n",
       "      <td>4</td>\n",
       "      <td>80</td>\n",
       "      <td>1</td>\n",
       "      <td>10</td>\n",
       "      <td>3</td>\n",
       "      <td>3</td>\n",
       "      <td>10</td>\n",
       "      <td>7</td>\n",
       "      <td>1</td>\n",
       "      <td>7</td>\n",
       "    </tr>\n",
       "    <tr>\n",
       "      <th>2</th>\n",
       "      <td>37</td>\n",
       "      <td>Yes</td>\n",
       "      <td>Travel_Rarely</td>\n",
       "      <td>1373</td>\n",
       "      <td>Research &amp; Development</td>\n",
       "      <td>2</td>\n",
       "      <td>2</td>\n",
       "      <td>Other</td>\n",
       "      <td>1</td>\n",
       "      <td>4</td>\n",
       "      <td>...</td>\n",
       "      <td>2</td>\n",
       "      <td>80</td>\n",
       "      <td>0</td>\n",
       "      <td>7</td>\n",
       "      <td>3</td>\n",
       "      <td>3</td>\n",
       "      <td>0</td>\n",
       "      <td>0</td>\n",
       "      <td>0</td>\n",
       "      <td>0</td>\n",
       "    </tr>\n",
       "    <tr>\n",
       "      <th>3</th>\n",
       "      <td>33</td>\n",
       "      <td>No</td>\n",
       "      <td>Travel_Frequently</td>\n",
       "      <td>1392</td>\n",
       "      <td>Research &amp; Development</td>\n",
       "      <td>3</td>\n",
       "      <td>4</td>\n",
       "      <td>Life Sciences</td>\n",
       "      <td>1</td>\n",
       "      <td>5</td>\n",
       "      <td>...</td>\n",
       "      <td>3</td>\n",
       "      <td>80</td>\n",
       "      <td>0</td>\n",
       "      <td>8</td>\n",
       "      <td>3</td>\n",
       "      <td>3</td>\n",
       "      <td>8</td>\n",
       "      <td>7</td>\n",
       "      <td>3</td>\n",
       "      <td>0</td>\n",
       "    </tr>\n",
       "    <tr>\n",
       "      <th>4</th>\n",
       "      <td>27</td>\n",
       "      <td>No</td>\n",
       "      <td>Travel_Rarely</td>\n",
       "      <td>591</td>\n",
       "      <td>Research &amp; Development</td>\n",
       "      <td>2</td>\n",
       "      <td>1</td>\n",
       "      <td>Medical</td>\n",
       "      <td>1</td>\n",
       "      <td>7</td>\n",
       "      <td>...</td>\n",
       "      <td>4</td>\n",
       "      <td>80</td>\n",
       "      <td>1</td>\n",
       "      <td>6</td>\n",
       "      <td>3</td>\n",
       "      <td>3</td>\n",
       "      <td>2</td>\n",
       "      <td>2</td>\n",
       "      <td>2</td>\n",
       "      <td>2</td>\n",
       "    </tr>\n",
       "  </tbody>\n",
       "</table>\n",
       "<p>5 rows × 35 columns</p>\n",
       "</div>"
      ],
      "text/plain": [
       "   Age Attrition     BusinessTravel  DailyRate              Department  \\\n",
       "0   41       Yes      Travel_Rarely       1102                   Sales   \n",
       "1   49        No  Travel_Frequently        279  Research & Development   \n",
       "2   37       Yes      Travel_Rarely       1373  Research & Development   \n",
       "3   33        No  Travel_Frequently       1392  Research & Development   \n",
       "4   27        No      Travel_Rarely        591  Research & Development   \n",
       "\n",
       "   DistanceFromHome  Education EducationField  EmployeeCount  EmployeeNumber  \\\n",
       "0                 1          2  Life Sciences              1               1   \n",
       "1                 8          1  Life Sciences              1               2   \n",
       "2                 2          2          Other              1               4   \n",
       "3                 3          4  Life Sciences              1               5   \n",
       "4                 2          1        Medical              1               7   \n",
       "\n",
       "   ...  RelationshipSatisfaction StandardHours  StockOptionLevel  \\\n",
       "0  ...                         1            80                 0   \n",
       "1  ...                         4            80                 1   \n",
       "2  ...                         2            80                 0   \n",
       "3  ...                         3            80                 0   \n",
       "4  ...                         4            80                 1   \n",
       "\n",
       "   TotalWorkingYears  TrainingTimesLastYear WorkLifeBalance  YearsAtCompany  \\\n",
       "0                  8                      0               1               6   \n",
       "1                 10                      3               3              10   \n",
       "2                  7                      3               3               0   \n",
       "3                  8                      3               3               8   \n",
       "4                  6                      3               3               2   \n",
       "\n",
       "  YearsInCurrentRole  YearsSinceLastPromotion  YearsWithCurrManager  \n",
       "0                  4                        0                     5  \n",
       "1                  7                        1                     7  \n",
       "2                  0                        0                     0  \n",
       "3                  7                        3                     0  \n",
       "4                  2                        2                     2  \n",
       "\n",
       "[5 rows x 35 columns]"
      ]
     },
     "execution_count": 167,
     "metadata": {},
     "output_type": "execute_result"
    }
   ],
   "source": [
    "df=pd.read_csv('HR Employee Attrition.csv')\n",
    "df.head()"
   ]
  },
  {
   "cell_type": "markdown",
   "metadata": {},
   "source": [
    "**EDA**"
   ]
  },
  {
   "cell_type": "code",
   "execution_count": 168,
   "metadata": {},
   "outputs": [
    {
     "data": {
      "text/plain": [
       "Index(['Age', 'Attrition', 'BusinessTravel', 'DailyRate', 'Department',\n",
       "       'DistanceFromHome', 'Education', 'EducationField', 'EmployeeCount',\n",
       "       'EmployeeNumber', 'EnvironmentSatisfaction', 'Gender', 'HourlyRate',\n",
       "       'JobInvolvement', 'JobLevel', 'JobRole', 'JobSatisfaction',\n",
       "       'MaritalStatus', 'MonthlyIncome', 'MonthlyRate', 'NumCompaniesWorked',\n",
       "       'Over18', 'OverTime', 'PercentSalaryHike', 'PerformanceRating',\n",
       "       'RelationshipSatisfaction', 'StandardHours', 'StockOptionLevel',\n",
       "       'TotalWorkingYears', 'TrainingTimesLastYear', 'WorkLifeBalance',\n",
       "       'YearsAtCompany', 'YearsInCurrentRole', 'YearsSinceLastPromotion',\n",
       "       'YearsWithCurrManager'],\n",
       "      dtype='object')"
      ]
     },
     "execution_count": 168,
     "metadata": {},
     "output_type": "execute_result"
    }
   ],
   "source": [
    "df.columns"
   ]
  },
  {
   "cell_type": "code",
   "execution_count": 169,
   "metadata": {},
   "outputs": [
    {
     "data": {
      "text/plain": [
       "Age                          int64\n",
       "Attrition                   object\n",
       "BusinessTravel              object\n",
       "DailyRate                    int64\n",
       "Department                  object\n",
       "DistanceFromHome             int64\n",
       "Education                    int64\n",
       "EducationField              object\n",
       "EmployeeCount                int64\n",
       "EmployeeNumber               int64\n",
       "EnvironmentSatisfaction      int64\n",
       "Gender                      object\n",
       "HourlyRate                   int64\n",
       "JobInvolvement               int64\n",
       "JobLevel                     int64\n",
       "JobRole                     object\n",
       "JobSatisfaction              int64\n",
       "MaritalStatus               object\n",
       "MonthlyIncome                int64\n",
       "MonthlyRate                  int64\n",
       "NumCompaniesWorked           int64\n",
       "Over18                      object\n",
       "OverTime                    object\n",
       "PercentSalaryHike            int64\n",
       "PerformanceRating            int64\n",
       "RelationshipSatisfaction     int64\n",
       "StandardHours                int64\n",
       "StockOptionLevel             int64\n",
       "TotalWorkingYears            int64\n",
       "TrainingTimesLastYear        int64\n",
       "WorkLifeBalance              int64\n",
       "YearsAtCompany               int64\n",
       "YearsInCurrentRole           int64\n",
       "YearsSinceLastPromotion      int64\n",
       "YearsWithCurrManager         int64\n",
       "dtype: object"
      ]
     },
     "execution_count": 169,
     "metadata": {},
     "output_type": "execute_result"
    }
   ],
   "source": [
    "df.dtypes"
   ]
  },
  {
   "cell_type": "code",
   "execution_count": 170,
   "metadata": {},
   "outputs": [
    {
     "data": {
      "text/plain": [
       "Age                         0\n",
       "Attrition                   0\n",
       "BusinessTravel              0\n",
       "DailyRate                   0\n",
       "Department                  0\n",
       "DistanceFromHome            0\n",
       "Education                   0\n",
       "EducationField              0\n",
       "EmployeeCount               0\n",
       "EmployeeNumber              0\n",
       "EnvironmentSatisfaction     0\n",
       "Gender                      0\n",
       "HourlyRate                  0\n",
       "JobInvolvement              0\n",
       "JobLevel                    0\n",
       "JobRole                     0\n",
       "JobSatisfaction             0\n",
       "MaritalStatus               0\n",
       "MonthlyIncome               0\n",
       "MonthlyRate                 0\n",
       "NumCompaniesWorked          0\n",
       "Over18                      0\n",
       "OverTime                    0\n",
       "PercentSalaryHike           0\n",
       "PerformanceRating           0\n",
       "RelationshipSatisfaction    0\n",
       "StandardHours               0\n",
       "StockOptionLevel            0\n",
       "TotalWorkingYears           0\n",
       "TrainingTimesLastYear       0\n",
       "WorkLifeBalance             0\n",
       "YearsAtCompany              0\n",
       "YearsInCurrentRole          0\n",
       "YearsSinceLastPromotion     0\n",
       "YearsWithCurrManager        0\n",
       "dtype: int64"
      ]
     },
     "execution_count": 170,
     "metadata": {},
     "output_type": "execute_result"
    }
   ],
   "source": [
    "df.isnull().sum()"
   ]
  },
  {
   "cell_type": "code",
   "execution_count": 171,
   "metadata": {},
   "outputs": [
    {
     "data": {
      "text/plain": [
       "(1470, 35)"
      ]
     },
     "execution_count": 171,
     "metadata": {},
     "output_type": "execute_result"
    }
   ],
   "source": [
    "df.shape"
   ]
  },
  {
   "cell_type": "markdown",
   "metadata": {},
   "source": [
    "**The DataSet Is Highly Imbalance**\n"
   ]
  },
  {
   "cell_type": "code",
   "execution_count": 172,
   "metadata": {},
   "outputs": [
    {
     "data": {
      "text/plain": [
       "Attrition\n",
       "No     1233\n",
       "Yes     237\n",
       "Name: count, dtype: int64"
      ]
     },
     "execution_count": 172,
     "metadata": {},
     "output_type": "execute_result"
    }
   ],
   "source": [
    "x = df['Attrition'].value_counts()\n",
    "x"
   ]
  },
  {
   "cell_type": "markdown",
   "metadata": {},
   "source": [
    "**Some visualizations for gaining insights from the provided data**"
   ]
  },
  {
   "cell_type": "code",
   "execution_count": 173,
   "metadata": {},
   "outputs": [
    {
     "data": {
      "application/vnd.plotly.v1+json": {
       "config": {
        "plotlyServerURL": "https://plot.ly"
       },
       "data": [
        {
         "labels": [
          "No",
          "Yes"
         ],
         "type": "pie",
         "values": [
          1233,
          237
         ]
        }
       ],
       "layout": {
        "template": {
         "data": {
          "bar": [
           {
            "error_x": {
             "color": "#2a3f5f"
            },
            "error_y": {
             "color": "#2a3f5f"
            },
            "marker": {
             "line": {
              "color": "#E5ECF6",
              "width": 0.5
             },
             "pattern": {
              "fillmode": "overlay",
              "size": 10,
              "solidity": 0.2
             }
            },
            "type": "bar"
           }
          ],
          "barpolar": [
           {
            "marker": {
             "line": {
              "color": "#E5ECF6",
              "width": 0.5
             },
             "pattern": {
              "fillmode": "overlay",
              "size": 10,
              "solidity": 0.2
             }
            },
            "type": "barpolar"
           }
          ],
          "carpet": [
           {
            "aaxis": {
             "endlinecolor": "#2a3f5f",
             "gridcolor": "white",
             "linecolor": "white",
             "minorgridcolor": "white",
             "startlinecolor": "#2a3f5f"
            },
            "baxis": {
             "endlinecolor": "#2a3f5f",
             "gridcolor": "white",
             "linecolor": "white",
             "minorgridcolor": "white",
             "startlinecolor": "#2a3f5f"
            },
            "type": "carpet"
           }
          ],
          "choropleth": [
           {
            "colorbar": {
             "outlinewidth": 0,
             "ticks": ""
            },
            "type": "choropleth"
           }
          ],
          "contour": [
           {
            "colorbar": {
             "outlinewidth": 0,
             "ticks": ""
            },
            "colorscale": [
             [
              0,
              "#0d0887"
             ],
             [
              0.1111111111111111,
              "#46039f"
             ],
             [
              0.2222222222222222,
              "#7201a8"
             ],
             [
              0.3333333333333333,
              "#9c179e"
             ],
             [
              0.4444444444444444,
              "#bd3786"
             ],
             [
              0.5555555555555556,
              "#d8576b"
             ],
             [
              0.6666666666666666,
              "#ed7953"
             ],
             [
              0.7777777777777778,
              "#fb9f3a"
             ],
             [
              0.8888888888888888,
              "#fdca26"
             ],
             [
              1,
              "#f0f921"
             ]
            ],
            "type": "contour"
           }
          ],
          "contourcarpet": [
           {
            "colorbar": {
             "outlinewidth": 0,
             "ticks": ""
            },
            "type": "contourcarpet"
           }
          ],
          "heatmap": [
           {
            "colorbar": {
             "outlinewidth": 0,
             "ticks": ""
            },
            "colorscale": [
             [
              0,
              "#0d0887"
             ],
             [
              0.1111111111111111,
              "#46039f"
             ],
             [
              0.2222222222222222,
              "#7201a8"
             ],
             [
              0.3333333333333333,
              "#9c179e"
             ],
             [
              0.4444444444444444,
              "#bd3786"
             ],
             [
              0.5555555555555556,
              "#d8576b"
             ],
             [
              0.6666666666666666,
              "#ed7953"
             ],
             [
              0.7777777777777778,
              "#fb9f3a"
             ],
             [
              0.8888888888888888,
              "#fdca26"
             ],
             [
              1,
              "#f0f921"
             ]
            ],
            "type": "heatmap"
           }
          ],
          "heatmapgl": [
           {
            "colorbar": {
             "outlinewidth": 0,
             "ticks": ""
            },
            "colorscale": [
             [
              0,
              "#0d0887"
             ],
             [
              0.1111111111111111,
              "#46039f"
             ],
             [
              0.2222222222222222,
              "#7201a8"
             ],
             [
              0.3333333333333333,
              "#9c179e"
             ],
             [
              0.4444444444444444,
              "#bd3786"
             ],
             [
              0.5555555555555556,
              "#d8576b"
             ],
             [
              0.6666666666666666,
              "#ed7953"
             ],
             [
              0.7777777777777778,
              "#fb9f3a"
             ],
             [
              0.8888888888888888,
              "#fdca26"
             ],
             [
              1,
              "#f0f921"
             ]
            ],
            "type": "heatmapgl"
           }
          ],
          "histogram": [
           {
            "marker": {
             "pattern": {
              "fillmode": "overlay",
              "size": 10,
              "solidity": 0.2
             }
            },
            "type": "histogram"
           }
          ],
          "histogram2d": [
           {
            "colorbar": {
             "outlinewidth": 0,
             "ticks": ""
            },
            "colorscale": [
             [
              0,
              "#0d0887"
             ],
             [
              0.1111111111111111,
              "#46039f"
             ],
             [
              0.2222222222222222,
              "#7201a8"
             ],
             [
              0.3333333333333333,
              "#9c179e"
             ],
             [
              0.4444444444444444,
              "#bd3786"
             ],
             [
              0.5555555555555556,
              "#d8576b"
             ],
             [
              0.6666666666666666,
              "#ed7953"
             ],
             [
              0.7777777777777778,
              "#fb9f3a"
             ],
             [
              0.8888888888888888,
              "#fdca26"
             ],
             [
              1,
              "#f0f921"
             ]
            ],
            "type": "histogram2d"
           }
          ],
          "histogram2dcontour": [
           {
            "colorbar": {
             "outlinewidth": 0,
             "ticks": ""
            },
            "colorscale": [
             [
              0,
              "#0d0887"
             ],
             [
              0.1111111111111111,
              "#46039f"
             ],
             [
              0.2222222222222222,
              "#7201a8"
             ],
             [
              0.3333333333333333,
              "#9c179e"
             ],
             [
              0.4444444444444444,
              "#bd3786"
             ],
             [
              0.5555555555555556,
              "#d8576b"
             ],
             [
              0.6666666666666666,
              "#ed7953"
             ],
             [
              0.7777777777777778,
              "#fb9f3a"
             ],
             [
              0.8888888888888888,
              "#fdca26"
             ],
             [
              1,
              "#f0f921"
             ]
            ],
            "type": "histogram2dcontour"
           }
          ],
          "mesh3d": [
           {
            "colorbar": {
             "outlinewidth": 0,
             "ticks": ""
            },
            "type": "mesh3d"
           }
          ],
          "parcoords": [
           {
            "line": {
             "colorbar": {
              "outlinewidth": 0,
              "ticks": ""
             }
            },
            "type": "parcoords"
           }
          ],
          "pie": [
           {
            "automargin": true,
            "type": "pie"
           }
          ],
          "scatter": [
           {
            "fillpattern": {
             "fillmode": "overlay",
             "size": 10,
             "solidity": 0.2
            },
            "type": "scatter"
           }
          ],
          "scatter3d": [
           {
            "line": {
             "colorbar": {
              "outlinewidth": 0,
              "ticks": ""
             }
            },
            "marker": {
             "colorbar": {
              "outlinewidth": 0,
              "ticks": ""
             }
            },
            "type": "scatter3d"
           }
          ],
          "scattercarpet": [
           {
            "marker": {
             "colorbar": {
              "outlinewidth": 0,
              "ticks": ""
             }
            },
            "type": "scattercarpet"
           }
          ],
          "scattergeo": [
           {
            "marker": {
             "colorbar": {
              "outlinewidth": 0,
              "ticks": ""
             }
            },
            "type": "scattergeo"
           }
          ],
          "scattergl": [
           {
            "marker": {
             "colorbar": {
              "outlinewidth": 0,
              "ticks": ""
             }
            },
            "type": "scattergl"
           }
          ],
          "scattermapbox": [
           {
            "marker": {
             "colorbar": {
              "outlinewidth": 0,
              "ticks": ""
             }
            },
            "type": "scattermapbox"
           }
          ],
          "scatterpolar": [
           {
            "marker": {
             "colorbar": {
              "outlinewidth": 0,
              "ticks": ""
             }
            },
            "type": "scatterpolar"
           }
          ],
          "scatterpolargl": [
           {
            "marker": {
             "colorbar": {
              "outlinewidth": 0,
              "ticks": ""
             }
            },
            "type": "scatterpolargl"
           }
          ],
          "scatterternary": [
           {
            "marker": {
             "colorbar": {
              "outlinewidth": 0,
              "ticks": ""
             }
            },
            "type": "scatterternary"
           }
          ],
          "surface": [
           {
            "colorbar": {
             "outlinewidth": 0,
             "ticks": ""
            },
            "colorscale": [
             [
              0,
              "#0d0887"
             ],
             [
              0.1111111111111111,
              "#46039f"
             ],
             [
              0.2222222222222222,
              "#7201a8"
             ],
             [
              0.3333333333333333,
              "#9c179e"
             ],
             [
              0.4444444444444444,
              "#bd3786"
             ],
             [
              0.5555555555555556,
              "#d8576b"
             ],
             [
              0.6666666666666666,
              "#ed7953"
             ],
             [
              0.7777777777777778,
              "#fb9f3a"
             ],
             [
              0.8888888888888888,
              "#fdca26"
             ],
             [
              1,
              "#f0f921"
             ]
            ],
            "type": "surface"
           }
          ],
          "table": [
           {
            "cells": {
             "fill": {
              "color": "#EBF0F8"
             },
             "line": {
              "color": "white"
             }
            },
            "header": {
             "fill": {
              "color": "#C8D4E3"
             },
             "line": {
              "color": "white"
             }
            },
            "type": "table"
           }
          ]
         },
         "layout": {
          "annotationdefaults": {
           "arrowcolor": "#2a3f5f",
           "arrowhead": 0,
           "arrowwidth": 1
          },
          "autotypenumbers": "strict",
          "coloraxis": {
           "colorbar": {
            "outlinewidth": 0,
            "ticks": ""
           }
          },
          "colorscale": {
           "diverging": [
            [
             0,
             "#8e0152"
            ],
            [
             0.1,
             "#c51b7d"
            ],
            [
             0.2,
             "#de77ae"
            ],
            [
             0.3,
             "#f1b6da"
            ],
            [
             0.4,
             "#fde0ef"
            ],
            [
             0.5,
             "#f7f7f7"
            ],
            [
             0.6,
             "#e6f5d0"
            ],
            [
             0.7,
             "#b8e186"
            ],
            [
             0.8,
             "#7fbc41"
            ],
            [
             0.9,
             "#4d9221"
            ],
            [
             1,
             "#276419"
            ]
           ],
           "sequential": [
            [
             0,
             "#0d0887"
            ],
            [
             0.1111111111111111,
             "#46039f"
            ],
            [
             0.2222222222222222,
             "#7201a8"
            ],
            [
             0.3333333333333333,
             "#9c179e"
            ],
            [
             0.4444444444444444,
             "#bd3786"
            ],
            [
             0.5555555555555556,
             "#d8576b"
            ],
            [
             0.6666666666666666,
             "#ed7953"
            ],
            [
             0.7777777777777778,
             "#fb9f3a"
            ],
            [
             0.8888888888888888,
             "#fdca26"
            ],
            [
             1,
             "#f0f921"
            ]
           ],
           "sequentialminus": [
            [
             0,
             "#0d0887"
            ],
            [
             0.1111111111111111,
             "#46039f"
            ],
            [
             0.2222222222222222,
             "#7201a8"
            ],
            [
             0.3333333333333333,
             "#9c179e"
            ],
            [
             0.4444444444444444,
             "#bd3786"
            ],
            [
             0.5555555555555556,
             "#d8576b"
            ],
            [
             0.6666666666666666,
             "#ed7953"
            ],
            [
             0.7777777777777778,
             "#fb9f3a"
            ],
            [
             0.8888888888888888,
             "#fdca26"
            ],
            [
             1,
             "#f0f921"
            ]
           ]
          },
          "colorway": [
           "#636efa",
           "#EF553B",
           "#00cc96",
           "#ab63fa",
           "#FFA15A",
           "#19d3f3",
           "#FF6692",
           "#B6E880",
           "#FF97FF",
           "#FECB52"
          ],
          "font": {
           "color": "#2a3f5f"
          },
          "geo": {
           "bgcolor": "white",
           "lakecolor": "white",
           "landcolor": "#E5ECF6",
           "showlakes": true,
           "showland": true,
           "subunitcolor": "white"
          },
          "hoverlabel": {
           "align": "left"
          },
          "hovermode": "closest",
          "mapbox": {
           "style": "light"
          },
          "paper_bgcolor": "white",
          "plot_bgcolor": "#E5ECF6",
          "polar": {
           "angularaxis": {
            "gridcolor": "white",
            "linecolor": "white",
            "ticks": ""
           },
           "bgcolor": "#E5ECF6",
           "radialaxis": {
            "gridcolor": "white",
            "linecolor": "white",
            "ticks": ""
           }
          },
          "scene": {
           "xaxis": {
            "backgroundcolor": "#E5ECF6",
            "gridcolor": "white",
            "gridwidth": 2,
            "linecolor": "white",
            "showbackground": true,
            "ticks": "",
            "zerolinecolor": "white"
           },
           "yaxis": {
            "backgroundcolor": "#E5ECF6",
            "gridcolor": "white",
            "gridwidth": 2,
            "linecolor": "white",
            "showbackground": true,
            "ticks": "",
            "zerolinecolor": "white"
           },
           "zaxis": {
            "backgroundcolor": "#E5ECF6",
            "gridcolor": "white",
            "gridwidth": 2,
            "linecolor": "white",
            "showbackground": true,
            "ticks": "",
            "zerolinecolor": "white"
           }
          },
          "shapedefaults": {
           "line": {
            "color": "#2a3f5f"
           }
          },
          "ternary": {
           "aaxis": {
            "gridcolor": "white",
            "linecolor": "white",
            "ticks": ""
           },
           "baxis": {
            "gridcolor": "white",
            "linecolor": "white",
            "ticks": ""
           },
           "bgcolor": "#E5ECF6",
           "caxis": {
            "gridcolor": "white",
            "linecolor": "white",
            "ticks": ""
           }
          },
          "title": {
           "x": 0.05
          },
          "xaxis": {
           "automargin": true,
           "gridcolor": "white",
           "linecolor": "white",
           "ticks": "",
           "title": {
            "standoff": 15
           },
           "zerolinecolor": "white",
           "zerolinewidth": 2
          },
          "yaxis": {
           "automargin": true,
           "gridcolor": "white",
           "linecolor": "white",
           "ticks": "",
           "title": {
            "standoff": 15
           },
           "zerolinecolor": "white",
           "zerolinewidth": 2
          }
         }
        },
        "title": {
         "text": "The Attrition Pie Chart"
        }
       }
      }
     },
     "metadata": {},
     "output_type": "display_data"
    }
   ],
   "source": [
    "import plotly.graph_objects as go\n",
    "fig = go.Figure(data=go.Pie(labels=['No','Yes'],values=x))\n",
    "fig.update_layout(title=\"The Attrition Pie Chart\")\n",
    "fig.show()"
   ]
  },
  {
   "cell_type": "code",
   "execution_count": 174,
   "metadata": {},
   "outputs": [
    {
     "data": {
      "image/png": "[encoded data removed]",
      "text/plain": [
       "<Figure size 600x400 with 1 Axes>"
      ]
     },
     "metadata": {},
     "output_type": "display_data"
    }
   ],
   "source": [
    "plt.figure(figsize=(6,4))\n",
    "sns.countplot(x='Attrition', data=df, palette='viridis')\n",
    "plt.title('Overall Attrition Distribution')\n",
    "plt.show()"
   ]
  },
  {
   "cell_type": "code",
   "execution_count": 175,
   "metadata": {},
   "outputs": [
    {
     "data": {
      "image/png": "[encoded data removed]",
      "text/plain": [
       "<Figure size 1200x600 with 1 Axes>"
      ]
     },
     "metadata": {},
     "output_type": "display_data"
    }
   ],
   "source": [
    "# Countplot for Attrition by Job Role\n",
    "plt.figure(figsize=(12,6))\n",
    "sns.countplot(x='JobRole', hue='Attrition', data=df, palette='viridis')\n",
    "plt.title('Attrition by Job Role')\n",
    "plt.xticks(rotation=90)\n",
    "plt.show()"
   ]
  },
  {
   "cell_type": "code",
   "execution_count": 176,
   "metadata": {},
   "outputs": [
    {
     "data": {
      "text/html": [
       "<div>\n",
       "<style scoped>\n",
       "    .dataframe tbody tr th:only-of-type {\n",
       "        vertical-align: middle;\n",
       "    }\n",
       "\n",
       "    .dataframe tbody tr th {\n",
       "        vertical-align: top;\n",
       "    }\n",
       "\n",
       "    .dataframe thead th {\n",
       "        text-align: right;\n",
       "    }\n",
       "</style>\n",
       "<table border=\"1\" class=\"dataframe\">\n",
       "  <thead>\n",
       "    <tr style=\"text-align: right;\">\n",
       "      <th></th>\n",
       "      <th>Yes</th>\n",
       "      <th>No</th>\n",
       "    </tr>\n",
       "    <tr>\n",
       "      <th>YearsAtCompany</th>\n",
       "      <th></th>\n",
       "      <th></th>\n",
       "    </tr>\n",
       "  </thead>\n",
       "  <tbody>\n",
       "    <tr>\n",
       "      <th>1</th>\n",
       "      <td>59</td>\n",
       "      <td>112.0</td>\n",
       "    </tr>\n",
       "    <tr>\n",
       "      <th>2</th>\n",
       "      <td>27</td>\n",
       "      <td>100.0</td>\n",
       "    </tr>\n",
       "    <tr>\n",
       "      <th>5</th>\n",
       "      <td>21</td>\n",
       "      <td>175.0</td>\n",
       "    </tr>\n",
       "    <tr>\n",
       "      <th>3</th>\n",
       "      <td>20</td>\n",
       "      <td>108.0</td>\n",
       "    </tr>\n",
       "    <tr>\n",
       "      <th>4</th>\n",
       "      <td>19</td>\n",
       "      <td>91.0</td>\n",
       "    </tr>\n",
       "    <tr>\n",
       "      <th>10</th>\n",
       "      <td>18</td>\n",
       "      <td>102.0</td>\n",
       "    </tr>\n",
       "    <tr>\n",
       "      <th>0</th>\n",
       "      <td>16</td>\n",
       "      <td>28.0</td>\n",
       "    </tr>\n",
       "    <tr>\n",
       "      <th>7</th>\n",
       "      <td>11</td>\n",
       "      <td>79.0</td>\n",
       "    </tr>\n",
       "    <tr>\n",
       "      <th>8</th>\n",
       "      <td>9</td>\n",
       "      <td>71.0</td>\n",
       "    </tr>\n",
       "    <tr>\n",
       "      <th>6</th>\n",
       "      <td>9</td>\n",
       "      <td>67.0</td>\n",
       "    </tr>\n",
       "    <tr>\n",
       "      <th>9</th>\n",
       "      <td>8</td>\n",
       "      <td>74.0</td>\n",
       "    </tr>\n",
       "    <tr>\n",
       "      <th>14</th>\n",
       "      <td>2</td>\n",
       "      <td>16.0</td>\n",
       "    </tr>\n",
       "    <tr>\n",
       "      <th>11</th>\n",
       "      <td>2</td>\n",
       "      <td>30.0</td>\n",
       "    </tr>\n",
       "    <tr>\n",
       "      <th>13</th>\n",
       "      <td>2</td>\n",
       "      <td>22.0</td>\n",
       "    </tr>\n",
       "    <tr>\n",
       "      <th>18</th>\n",
       "      <td>1</td>\n",
       "      <td>12.0</td>\n",
       "    </tr>\n",
       "    <tr>\n",
       "      <th>15</th>\n",
       "      <td>1</td>\n",
       "      <td>19.0</td>\n",
       "    </tr>\n",
       "    <tr>\n",
       "      <th>33</th>\n",
       "      <td>1</td>\n",
       "      <td>4.0</td>\n",
       "    </tr>\n",
       "    <tr>\n",
       "      <th>19</th>\n",
       "      <td>1</td>\n",
       "      <td>10.0</td>\n",
       "    </tr>\n",
       "    <tr>\n",
       "      <th>24</th>\n",
       "      <td>1</td>\n",
       "      <td>5.0</td>\n",
       "    </tr>\n",
       "    <tr>\n",
       "      <th>21</th>\n",
       "      <td>1</td>\n",
       "      <td>13.0</td>\n",
       "    </tr>\n",
       "    <tr>\n",
       "      <th>31</th>\n",
       "      <td>1</td>\n",
       "      <td>2.0</td>\n",
       "    </tr>\n",
       "    <tr>\n",
       "      <th>20</th>\n",
       "      <td>1</td>\n",
       "      <td>26.0</td>\n",
       "    </tr>\n",
       "    <tr>\n",
       "      <th>17</th>\n",
       "      <td>1</td>\n",
       "      <td>8.0</td>\n",
       "    </tr>\n",
       "    <tr>\n",
       "      <th>32</th>\n",
       "      <td>1</td>\n",
       "      <td>2.0</td>\n",
       "    </tr>\n",
       "    <tr>\n",
       "      <th>16</th>\n",
       "      <td>1</td>\n",
       "      <td>11.0</td>\n",
       "    </tr>\n",
       "    <tr>\n",
       "      <th>40</th>\n",
       "      <td>1</td>\n",
       "      <td>NaN</td>\n",
       "    </tr>\n",
       "    <tr>\n",
       "      <th>22</th>\n",
       "      <td>1</td>\n",
       "      <td>14.0</td>\n",
       "    </tr>\n",
       "    <tr>\n",
       "      <th>23</th>\n",
       "      <td>1</td>\n",
       "      <td>1.0</td>\n",
       "    </tr>\n",
       "  </tbody>\n",
       "</table>\n",
       "</div>"
      ],
      "text/plain": [
       "                Yes     No\n",
       "YearsAtCompany            \n",
       "1                59  112.0\n",
       "2                27  100.0\n",
       "5                21  175.0\n",
       "3                20  108.0\n",
       "4                19   91.0\n",
       "10               18  102.0\n",
       "0                16   28.0\n",
       "7                11   79.0\n",
       "8                 9   71.0\n",
       "6                 9   67.0\n",
       "9                 8   74.0\n",
       "14                2   16.0\n",
       "11                2   30.0\n",
       "13                2   22.0\n",
       "18                1   12.0\n",
       "15                1   19.0\n",
       "33                1    4.0\n",
       "19                1   10.0\n",
       "24                1    5.0\n",
       "21                1   13.0\n",
       "31                1    2.0\n",
       "20                1   26.0\n",
       "17                1    8.0\n",
       "32                1    2.0\n",
       "16                1   11.0\n",
       "40                1    NaN\n",
       "22                1   14.0\n",
       "23                1    1.0"
      ]
     },
     "execution_count": 176,
     "metadata": {},
     "output_type": "execute_result"
    }
   ],
   "source": [
    "# Years at Company attrition\n",
    "u = pd.DataFrame()\n",
    "u['Yes'] = df[df['Attrition'] == 'Yes']['YearsAtCompany'].value_counts()\n",
    "u['No'] = df[df['Attrition'] == 'No']['YearsAtCompany'].value_counts()\n",
    "u"
   ]
  },
  {
   "cell_type": "code",
   "execution_count": 177,
   "metadata": {},
   "outputs": [
    {
     "data": {
      "image/png": "[encoded data removed]",
      "text/plain": [
       "<Figure size 1000x600 with 1 Axes>"
      ]
     },
     "metadata": {},
     "output_type": "display_data"
    }
   ],
   "source": [
    "# Distribution of Years at Company by Attrition Status\n",
    "plt.figure(figsize=(10, 6))\n",
    "sns.set_theme(style=\"whitegrid\")\n",
    "sns.histplot(data=df, x='YearsAtCompany', hue='Attrition', element='step', stat='density', common_norm=False, palette='muted', kde=True)\n",
    "plt.title('Distribution of Years at Company by Attrition Status', fontsize=16)\n",
    "plt.xlabel('Years at Company', fontsize=14)\n",
    "plt.ylabel('Density', fontsize=14)\n",
    "plt.show()"
   ]
  },
  {
   "cell_type": "code",
   "execution_count": 178,
   "metadata": {},
   "outputs": [
    {
     "data": {
      "image/png": "[encoded data removed]",
      "text/plain": [
       "<Figure size 800x600 with 1 Axes>"
      ]
     },
     "metadata": {},
     "output_type": "display_data"
    },
    {
     "name": "stdout",
     "output_type": "stream",
     "text": [
      "This graph shows that while both male and female employees experience attrition,\n",
      " there are more male employees in both categories, suggesting a potential gender imbalance in the workforce.\n",
      " Additionally, the number of employees staying is significantly higher than those leaving for both genders\n"
     ]
    }
   ],
   "source": [
    "# Attrition by Gender\n",
    "plt.figure(figsize=(8, 6))\n",
    "sns.set_theme(style=\"whitegrid\")\n",
    "sns.countplot(x='Gender', hue='Attrition', data=df, palette='pastel')\n",
    "plt.title('Attrition by Gender', fontsize=16)\n",
    "plt.xlabel('Gender', fontsize=14)\n",
    "plt.ylabel('Number of Employees', fontsize=14)\n",
    "plt.legend(title='Attrition', loc='upper right')\n",
    "plt.show()\n",
    "print(\"This graph shows that while both male and female employees experience attrition,\\n there are more male employees in both categories, suggesting a potential gender imbalance in the workforce.\\n Additionally, the number of employees staying is significantly higher than those leaving for both genders\")"
   ]
  },
  {
   "cell_type": "code",
   "execution_count": 179,
   "metadata": {},
   "outputs": [
    {
     "data": {
      "image/png": "[encoded data removed]",
      "text/plain": [
       "<Figure size 640x480 with 1 Axes>"
      ]
     },
     "metadata": {},
     "output_type": "display_data"
    }
   ],
   "source": [
    "# Attrition rate against age\n",
    "sns.histplot(data=df, x='Age', hue='Attrition', common_norm=False, palette='muted', kde=True)\n",
    "plt.title(label='Attrition rate against age')\n",
    "plt.show()"
   ]
  },
  {
   "cell_type": "code",
   "execution_count": 180,
   "metadata": {},
   "outputs": [
    {
     "data": {
      "image/png": "[encoded data removed]",
      "text/plain": [
       "<Figure size 640x480 with 1 Axes>"
      ]
     },
     "metadata": {},
     "output_type": "display_data"
    },
    {
     "name": "stdout",
     "output_type": "stream",
     "text": [
      "1 Below College 2 College 3 Bachelor 4 Master 5 Doctor\n"
     ]
    }
   ],
   "source": [
    "# Education distribuition by attrition\n",
    "sns.histplot(data=df,x='Education',hue='Attrition',kde=True)\n",
    "plt.title('Education distribuition by attrition')\n",
    "plt.show()\n",
    "print(1, 'Below College', 2, 'College', 3,'Bachelor', 4,'Master', 5, 'Doctor',)"
   ]
  },
  {
   "cell_type": "code",
   "execution_count": 181,
   "metadata": {},
   "outputs": [
    {
     "data": {
      "image/png": "[encoded data removed]",
      "text/plain": [
       "<Figure size 640x480 with 1 Axes>"
      ]
     },
     "metadata": {},
     "output_type": "display_data"
    },
    {
     "name": "stdout",
     "output_type": "stream",
     "text": [
      "It seems like there is a gender pay gap\n"
     ]
    }
   ],
   "source": [
    "# Pay rate by gender\n",
    "sns.histplot(data=df,x='DailyRate',hue='Gender')\n",
    "plt.title(label='Pay rate by gender')\n",
    "plt.show()\n",
    "print(\"It seems like there is a gender pay gap\")"
   ]
  },
  {
   "cell_type": "code",
   "execution_count": 182,
   "metadata": {},
   "outputs": [
    {
     "data": {
      "image/png": "[encoded data removed]",
      "text/plain": [
       "<Figure size 640x480 with 1 Axes>"
      ]
     },
     "metadata": {},
     "output_type": "display_data"
    },
    {
     "name": "stdout",
     "output_type": "stream",
     "text": [
      "1 Low 2 Medium 3 High 4 Very High\n"
     ]
    }
   ],
   "source": [
    "# Environment satisfaction distribuition by attrition\n",
    "sns.histplot(data=df,x='EnvironmentSatisfaction',hue='Attrition')\n",
    "plt.title('Environment satisfaction distribuition by attrition')\n",
    "plt.show()\n",
    "print(1, 'Low',2, 'Medium',3, 'High',4, 'Very High')"
   ]
  },
  {
   "cell_type": "code",
   "execution_count": 183,
   "metadata": {},
   "outputs": [
    {
     "data": {
      "image/png": "[encoded data removed]",
      "text/plain": [
       "<Figure size 640x480 with 1 Axes>"
      ]
     },
     "metadata": {},
     "output_type": "display_data"
    },
    {
     "name": "stdout",
     "output_type": "stream",
     "text": [
      "Lower earners seem to leave more for better paying jobs.\n"
     ]
    }
   ],
   "source": [
    "sns.histplot(data=df,x='MonthlyIncome',hue='Attrition',kde=True)\n",
    "plt.show()\n",
    "print(\"Lower earners seem to leave more for better paying jobs.\")"
   ]
  },
  {
   "cell_type": "markdown",
   "metadata": {},
   "source": [
    "**Data Pre-Processing And Handling Imbalance in The Dataset**"
   ]
  },
  {
   "cell_type": "code",
   "execution_count": 184,
   "metadata": {},
   "outputs": [
    {
     "name": "stdout",
     "output_type": "stream",
     "text": [
      "\n",
      " There is : 0  Nulls, Representing 0.00 % of The Data\n",
      "\n",
      " There is : 0  Duplicated, Representing 0.00 % of The Data\n",
      "\n",
      " Numerical Columns : {'Age': 'Continuous', 'DailyRate': 'Continuous', 'DistanceFromHome': 'Continuous', 'Education': 'Discrete', 'EmployeeCount': 'Discrete', 'EmployeeNumber': 'Continuous', 'EnvironmentSatisfaction': 'Discrete', 'HourlyRate': 'Continuous', 'JobInvolvement': 'Discrete', 'JobLevel': 'Discrete', 'JobSatisfaction': 'Discrete', 'MonthlyIncome': 'Continuous', 'MonthlyRate': 'Continuous', 'NumCompaniesWorked': 'Discrete', 'PercentSalaryHike': 'Continuous', 'PerformanceRating': 'Discrete', 'RelationshipSatisfaction': 'Discrete', 'StandardHours': 'Discrete', 'StockOptionLevel': 'Discrete', 'TotalWorkingYears': 'Continuous', 'TrainingTimesLastYear': 'Discrete', 'WorkLifeBalance': 'Discrete', 'YearsAtCompany': 'Continuous', 'YearsInCurrentRole': 'Continuous', 'YearsSinceLastPromotion': 'Continuous', 'YearsWithCurrManager': 'Continuous'}\n",
      "\n",
      " Categorical Columns : {'Attrition': 'Classes', 'BusinessTravel': 'Classes', 'Department': 'Classes', 'EducationField': 'Classes', 'Gender': 'Classes', 'JobRole': 'Classes', 'MaritalStatus': 'Classes', 'Over18': 'Classes', 'OverTime': 'Classes'}\n"
     ]
    },
    {
     "data": {
      "text/html": [
       "<div>\n",
       "<style scoped>\n",
       "    .dataframe tbody tr th:only-of-type {\n",
       "        vertical-align: middle;\n",
       "    }\n",
       "\n",
       "    .dataframe tbody tr th {\n",
       "        vertical-align: top;\n",
       "    }\n",
       "\n",
       "    .dataframe thead th {\n",
       "        text-align: right;\n",
       "    }\n",
       "</style>\n",
       "<table border=\"1\" class=\"dataframe\">\n",
       "  <thead>\n",
       "    <tr style=\"text-align: right;\">\n",
       "      <th></th>\n",
       "      <th>Feature</th>\n",
       "      <th>Unique_Values</th>\n",
       "      <th>No.OfUniqueValues</th>\n",
       "      <th>DataType</th>\n",
       "      <th>NoOfNulls</th>\n",
       "      <th>Nulls %</th>\n",
       "    </tr>\n",
       "  </thead>\n",
       "  <tbody>\n",
       "    <tr>\n",
       "      <th>0</th>\n",
       "      <td>Age</td>\n",
       "      <td>[41, 49, 37, 33, 27, 32, 59, 30, 38, 36, 35, 2...</td>\n",
       "      <td>43</td>\n",
       "      <td>int64</td>\n",
       "      <td>0</td>\n",
       "      <td>0</td>\n",
       "    </tr>\n",
       "    <tr>\n",
       "      <th>1</th>\n",
       "      <td>Attrition</td>\n",
       "      <td>[Yes, No]</td>\n",
       "      <td>2</td>\n",
       "      <td>object</td>\n",
       "      <td>0</td>\n",
       "      <td>0</td>\n",
       "    </tr>\n",
       "    <tr>\n",
       "      <th>2</th>\n",
       "      <td>BusinessTravel</td>\n",
       "      <td>[Travel_Rarely, Travel_Frequently, Non-Travel]</td>\n",
       "      <td>3</td>\n",
       "      <td>object</td>\n",
       "      <td>0</td>\n",
       "      <td>0</td>\n",
       "    </tr>\n",
       "    <tr>\n",
       "      <th>3</th>\n",
       "      <td>DailyRate</td>\n",
       "      <td>[1102, 279, 1373, 1392, 591, 1005, 1324, 1358,...</td>\n",
       "      <td>886</td>\n",
       "      <td>int64</td>\n",
       "      <td>0</td>\n",
       "      <td>0</td>\n",
       "    </tr>\n",
       "    <tr>\n",
       "      <th>4</th>\n",
       "      <td>Department</td>\n",
       "      <td>[Sales, Research &amp; Development, Human Resources]</td>\n",
       "      <td>3</td>\n",
       "      <td>object</td>\n",
       "      <td>0</td>\n",
       "      <td>0</td>\n",
       "    </tr>\n",
       "    <tr>\n",
       "      <th>5</th>\n",
       "      <td>DistanceFromHome</td>\n",
       "      <td>[1, 8, 2, 3, 24, 23, 27, 16, 15, 26, 19, 21, 5...</td>\n",
       "      <td>29</td>\n",
       "      <td>int64</td>\n",
       "      <td>0</td>\n",
       "      <td>0</td>\n",
       "    </tr>\n",
       "    <tr>\n",
       "      <th>6</th>\n",
       "      <td>Education</td>\n",
       "      <td>[2, 1, 4, 3, 5]</td>\n",
       "      <td>5</td>\n",
       "      <td>int64</td>\n",
       "      <td>0</td>\n",
       "      <td>0</td>\n",
       "    </tr>\n",
       "    <tr>\n",
       "      <th>7</th>\n",
       "      <td>EducationField</td>\n",
       "      <td>[Life Sciences, Other, Medical, Marketing, Tec...</td>\n",
       "      <td>6</td>\n",
       "      <td>object</td>\n",
       "      <td>0</td>\n",
       "      <td>0</td>\n",
       "    </tr>\n",
       "    <tr>\n",
       "      <th>8</th>\n",
       "      <td>EmployeeCount</td>\n",
       "      <td>[1]</td>\n",
       "      <td>1</td>\n",
       "      <td>int64</td>\n",
       "      <td>0</td>\n",
       "      <td>0</td>\n",
       "    </tr>\n",
       "    <tr>\n",
       "      <th>9</th>\n",
       "      <td>EmployeeNumber</td>\n",
       "      <td>[1, 2, 4, 5, 7, 8, 10, 11, 12, 13, 14, 15, 16,...</td>\n",
       "      <td>1470</td>\n",
       "      <td>int64</td>\n",
       "      <td>0</td>\n",
       "      <td>0</td>\n",
       "    </tr>\n",
       "    <tr>\n",
       "      <th>10</th>\n",
       "      <td>EnvironmentSatisfaction</td>\n",
       "      <td>[2, 3, 4, 1]</td>\n",
       "      <td>4</td>\n",
       "      <td>int64</td>\n",
       "      <td>0</td>\n",
       "      <td>0</td>\n",
       "    </tr>\n",
       "    <tr>\n",
       "      <th>11</th>\n",
       "      <td>Gender</td>\n",
       "      <td>[Female, Male]</td>\n",
       "      <td>2</td>\n",
       "      <td>object</td>\n",
       "      <td>0</td>\n",
       "      <td>0</td>\n",
       "    </tr>\n",
       "    <tr>\n",
       "      <th>12</th>\n",
       "      <td>HourlyRate</td>\n",
       "      <td>[94, 61, 92, 56, 40, 79, 81, 67, 44, 84, 49, 3...</td>\n",
       "      <td>71</td>\n",
       "      <td>int64</td>\n",
       "      <td>0</td>\n",
       "      <td>0</td>\n",
       "    </tr>\n",
       "    <tr>\n",
       "      <th>13</th>\n",
       "      <td>JobInvolvement</td>\n",
       "      <td>[3, 2, 4, 1]</td>\n",
       "      <td>4</td>\n",
       "      <td>int64</td>\n",
       "      <td>0</td>\n",
       "      <td>0</td>\n",
       "    </tr>\n",
       "    <tr>\n",
       "      <th>14</th>\n",
       "      <td>JobLevel</td>\n",
       "      <td>[2, 1, 3, 4, 5]</td>\n",
       "      <td>5</td>\n",
       "      <td>int64</td>\n",
       "      <td>0</td>\n",
       "      <td>0</td>\n",
       "    </tr>\n",
       "    <tr>\n",
       "      <th>15</th>\n",
       "      <td>JobRole</td>\n",
       "      <td>[Sales Executive, Research Scientist, Laborato...</td>\n",
       "      <td>9</td>\n",
       "      <td>object</td>\n",
       "      <td>0</td>\n",
       "      <td>0</td>\n",
       "    </tr>\n",
       "    <tr>\n",
       "      <th>16</th>\n",
       "      <td>JobSatisfaction</td>\n",
       "      <td>[4, 2, 3, 1]</td>\n",
       "      <td>4</td>\n",
       "      <td>int64</td>\n",
       "      <td>0</td>\n",
       "      <td>0</td>\n",
       "    </tr>\n",
       "    <tr>\n",
       "      <th>17</th>\n",
       "      <td>MaritalStatus</td>\n",
       "      <td>[Single, Married, Divorced]</td>\n",
       "      <td>3</td>\n",
       "      <td>object</td>\n",
       "      <td>0</td>\n",
       "      <td>0</td>\n",
       "    </tr>\n",
       "    <tr>\n",
       "      <th>18</th>\n",
       "      <td>MonthlyIncome</td>\n",
       "      <td>[5993, 5130, 2090, 2909, 3468, 3068, 2670, 269...</td>\n",
       "      <td>1349</td>\n",
       "      <td>int64</td>\n",
       "      <td>0</td>\n",
       "      <td>0</td>\n",
       "    </tr>\n",
       "    <tr>\n",
       "      <th>19</th>\n",
       "      <td>MonthlyRate</td>\n",
       "      <td>[19479, 24907, 2396, 23159, 16632, 11864, 9964...</td>\n",
       "      <td>1427</td>\n",
       "      <td>int64</td>\n",
       "      <td>0</td>\n",
       "      <td>0</td>\n",
       "    </tr>\n",
       "    <tr>\n",
       "      <th>20</th>\n",
       "      <td>NumCompaniesWorked</td>\n",
       "      <td>[8, 1, 6, 9, 0, 4, 5, 2, 7, 3]</td>\n",
       "      <td>10</td>\n",
       "      <td>int64</td>\n",
       "      <td>0</td>\n",
       "      <td>0</td>\n",
       "    </tr>\n",
       "    <tr>\n",
       "      <th>21</th>\n",
       "      <td>Over18</td>\n",
       "      <td>[Y]</td>\n",
       "      <td>1</td>\n",
       "      <td>object</td>\n",
       "      <td>0</td>\n",
       "      <td>0</td>\n",
       "    </tr>\n",
       "    <tr>\n",
       "      <th>22</th>\n",
       "      <td>OverTime</td>\n",
       "      <td>[Yes, No]</td>\n",
       "      <td>2</td>\n",
       "      <td>object</td>\n",
       "      <td>0</td>\n",
       "      <td>0</td>\n",
       "    </tr>\n",
       "    <tr>\n",
       "      <th>23</th>\n",
       "      <td>PercentSalaryHike</td>\n",
       "      <td>[11, 23, 15, 12, 13, 20, 22, 21, 17, 14, 16, 1...</td>\n",
       "      <td>15</td>\n",
       "      <td>int64</td>\n",
       "      <td>0</td>\n",
       "      <td>0</td>\n",
       "    </tr>\n",
       "    <tr>\n",
       "      <th>24</th>\n",
       "      <td>PerformanceRating</td>\n",
       "      <td>[3, 4]</td>\n",
       "      <td>2</td>\n",
       "      <td>int64</td>\n",
       "      <td>0</td>\n",
       "      <td>0</td>\n",
       "    </tr>\n",
       "    <tr>\n",
       "      <th>25</th>\n",
       "      <td>RelationshipSatisfaction</td>\n",
       "      <td>[1, 4, 2, 3]</td>\n",
       "      <td>4</td>\n",
       "      <td>int64</td>\n",
       "      <td>0</td>\n",
       "      <td>0</td>\n",
       "    </tr>\n",
       "    <tr>\n",
       "      <th>26</th>\n",
       "      <td>StandardHours</td>\n",
       "      <td>[80]</td>\n",
       "      <td>1</td>\n",
       "      <td>int64</td>\n",
       "      <td>0</td>\n",
       "      <td>0</td>\n",
       "    </tr>\n",
       "    <tr>\n",
       "      <th>27</th>\n",
       "      <td>StockOptionLevel</td>\n",
       "      <td>[0, 1, 3, 2]</td>\n",
       "      <td>4</td>\n",
       "      <td>int64</td>\n",
       "      <td>0</td>\n",
       "      <td>0</td>\n",
       "    </tr>\n",
       "    <tr>\n",
       "      <th>28</th>\n",
       "      <td>TotalWorkingYears</td>\n",
       "      <td>[8, 10, 7, 6, 12, 1, 17, 5, 3, 31, 13, 0, 26, ...</td>\n",
       "      <td>40</td>\n",
       "      <td>int64</td>\n",
       "      <td>0</td>\n",
       "      <td>0</td>\n",
       "    </tr>\n",
       "    <tr>\n",
       "      <th>29</th>\n",
       "      <td>TrainingTimesLastYear</td>\n",
       "      <td>[0, 3, 2, 5, 1, 4, 6]</td>\n",
       "      <td>7</td>\n",
       "      <td>int64</td>\n",
       "      <td>0</td>\n",
       "      <td>0</td>\n",
       "    </tr>\n",
       "    <tr>\n",
       "      <th>30</th>\n",
       "      <td>WorkLifeBalance</td>\n",
       "      <td>[1, 3, 2, 4]</td>\n",
       "      <td>4</td>\n",
       "      <td>int64</td>\n",
       "      <td>0</td>\n",
       "      <td>0</td>\n",
       "    </tr>\n",
       "    <tr>\n",
       "      <th>31</th>\n",
       "      <td>YearsAtCompany</td>\n",
       "      <td>[6, 10, 0, 8, 2, 7, 1, 9, 5, 4, 25, 3, 12, 14,...</td>\n",
       "      <td>37</td>\n",
       "      <td>int64</td>\n",
       "      <td>0</td>\n",
       "      <td>0</td>\n",
       "    </tr>\n",
       "    <tr>\n",
       "      <th>32</th>\n",
       "      <td>YearsInCurrentRole</td>\n",
       "      <td>[4, 7, 0, 2, 5, 9, 8, 3, 6, 13, 1, 15, 14, 16,...</td>\n",
       "      <td>19</td>\n",
       "      <td>int64</td>\n",
       "      <td>0</td>\n",
       "      <td>0</td>\n",
       "    </tr>\n",
       "    <tr>\n",
       "      <th>33</th>\n",
       "      <td>YearsSinceLastPromotion</td>\n",
       "      <td>[0, 1, 3, 2, 7, 4, 8, 6, 5, 15, 9, 13, 12, 10,...</td>\n",
       "      <td>16</td>\n",
       "      <td>int64</td>\n",
       "      <td>0</td>\n",
       "      <td>0</td>\n",
       "    </tr>\n",
       "    <tr>\n",
       "      <th>34</th>\n",
       "      <td>YearsWithCurrManager</td>\n",
       "      <td>[5, 7, 0, 2, 6, 8, 3, 11, 17, 1, 4, 12, 9, 10,...</td>\n",
       "      <td>18</td>\n",
       "      <td>int64</td>\n",
       "      <td>0</td>\n",
       "      <td>0</td>\n",
       "    </tr>\n",
       "  </tbody>\n",
       "</table>\n",
       "</div>"
      ],
      "text/plain": [
       "                     Feature  \\\n",
       "0                        Age   \n",
       "1                  Attrition   \n",
       "2             BusinessTravel   \n",
       "3                  DailyRate   \n",
       "4                 Department   \n",
       "5           DistanceFromHome   \n",
       "6                  Education   \n",
       "7             EducationField   \n",
       "8              EmployeeCount   \n",
       "9             EmployeeNumber   \n",
       "10   EnvironmentSatisfaction   \n",
       "11                    Gender   \n",
       "12                HourlyRate   \n",
       "13            JobInvolvement   \n",
       "14                  JobLevel   \n",
       "15                   JobRole   \n",
       "16           JobSatisfaction   \n",
       "17             MaritalStatus   \n",
       "18             MonthlyIncome   \n",
       "19               MonthlyRate   \n",
       "20        NumCompaniesWorked   \n",
       "21                    Over18   \n",
       "22                  OverTime   \n",
       "23         PercentSalaryHike   \n",
       "24         PerformanceRating   \n",
       "25  RelationshipSatisfaction   \n",
       "26             StandardHours   \n",
       "27          StockOptionLevel   \n",
       "28         TotalWorkingYears   \n",
       "29     TrainingTimesLastYear   \n",
       "30           WorkLifeBalance   \n",
       "31            YearsAtCompany   \n",
       "32        YearsInCurrentRole   \n",
       "33   YearsSinceLastPromotion   \n",
       "34      YearsWithCurrManager   \n",
       "\n",
       "                                        Unique_Values  No.OfUniqueValues  \\\n",
       "0   [41, 49, 37, 33, 27, 32, 59, 30, 38, 36, 35, 2...                 43   \n",
       "1                                           [Yes, No]                  2   \n",
       "2      [Travel_Rarely, Travel_Frequently, Non-Travel]                  3   \n",
       "3   [1102, 279, 1373, 1392, 591, 1005, 1324, 1358,...                886   \n",
       "4    [Sales, Research & Development, Human Resources]                  3   \n",
       "5   [1, 8, 2, 3, 24, 23, 27, 16, 15, 26, 19, 21, 5...                 29   \n",
       "6                                     [2, 1, 4, 3, 5]                  5   \n",
       "7   [Life Sciences, Other, Medical, Marketing, Tec...                  6   \n",
       "8                                                 [1]                  1   \n",
       "9   [1, 2, 4, 5, 7, 8, 10, 11, 12, 13, 14, 15, 16,...               1470   \n",
       "10                                       [2, 3, 4, 1]                  4   \n",
       "11                                     [Female, Male]                  2   \n",
       "12  [94, 61, 92, 56, 40, 79, 81, 67, 44, 84, 49, 3...                 71   \n",
       "13                                       [3, 2, 4, 1]                  4   \n",
       "14                                    [2, 1, 3, 4, 5]                  5   \n",
       "15  [Sales Executive, Research Scientist, Laborato...                  9   \n",
       "16                                       [4, 2, 3, 1]                  4   \n",
       "17                        [Single, Married, Divorced]                  3   \n",
       "18  [5993, 5130, 2090, 2909, 3468, 3068, 2670, 269...               1349   \n",
       "19  [19479, 24907, 2396, 23159, 16632, 11864, 9964...               1427   \n",
       "20                     [8, 1, 6, 9, 0, 4, 5, 2, 7, 3]                 10   \n",
       "21                                                [Y]                  1   \n",
       "22                                          [Yes, No]                  2   \n",
       "23  [11, 23, 15, 12, 13, 20, 22, 21, 17, 14, 16, 1...                 15   \n",
       "24                                             [3, 4]                  2   \n",
       "25                                       [1, 4, 2, 3]                  4   \n",
       "26                                               [80]                  1   \n",
       "27                                       [0, 1, 3, 2]                  4   \n",
       "28  [8, 10, 7, 6, 12, 1, 17, 5, 3, 31, 13, 0, 26, ...                 40   \n",
       "29                              [0, 3, 2, 5, 1, 4, 6]                  7   \n",
       "30                                       [1, 3, 2, 4]                  4   \n",
       "31  [6, 10, 0, 8, 2, 7, 1, 9, 5, 4, 25, 3, 12, 14,...                 37   \n",
       "32  [4, 7, 0, 2, 5, 9, 8, 3, 6, 13, 1, 15, 14, 16,...                 19   \n",
       "33  [0, 1, 3, 2, 7, 4, 8, 6, 5, 15, 9, 13, 12, 10,...                 16   \n",
       "34  [5, 7, 0, 2, 6, 8, 3, 11, 17, 1, 4, 12, 9, 10,...                 18   \n",
       "\n",
       "   DataType  NoOfNulls  Nulls %  \n",
       "0     int64          0        0  \n",
       "1    object          0        0  \n",
       "2    object          0        0  \n",
       "3     int64          0        0  \n",
       "4    object          0        0  \n",
       "5     int64          0        0  \n",
       "6     int64          0        0  \n",
       "7    object          0        0  \n",
       "8     int64          0        0  \n",
       "9     int64          0        0  \n",
       "10    int64          0        0  \n",
       "11   object          0        0  \n",
       "12    int64          0        0  \n",
       "13    int64          0        0  \n",
       "14    int64          0        0  \n",
       "15   object          0        0  \n",
       "16    int64          0        0  \n",
       "17   object          0        0  \n",
       "18    int64          0        0  \n",
       "19    int64          0        0  \n",
       "20    int64          0        0  \n",
       "21   object          0        0  \n",
       "22   object          0        0  \n",
       "23    int64          0        0  \n",
       "24    int64          0        0  \n",
       "25    int64          0        0  \n",
       "26    int64          0        0  \n",
       "27    int64          0        0  \n",
       "28    int64          0        0  \n",
       "29    int64          0        0  \n",
       "30    int64          0        0  \n",
       "31    int64          0        0  \n",
       "32    int64          0        0  \n",
       "33    int64          0        0  \n",
       "34    int64          0        0  "
      ]
     },
     "execution_count": 184,
     "metadata": {},
     "output_type": "execute_result"
    }
   ],
   "source": [
    "def Information (df) :\n",
    "    df.replace('?' , np.nan , inplace = True )\n",
    "    nulls = (df.shape[0] - df.dropna(axis = 0).shape[0])\n",
    "    nulls_per = (df.shape[0] - df.dropna(axis = 0).shape[0]) / df.shape[0]\n",
    "    dup , dup_per = df.duplicated().sum() , (df.duplicated().sum()) / df.shape[0]\n",
    "    numerical_columns = list((df.select_dtypes(include=np.number)).columns)\n",
    "    categorical_columns = list(df.select_dtypes(include = ['object']).columns)\n",
    "    numerical_col_dict = {}\n",
    "    for col in numerical_columns :\n",
    "        if df[col].nunique() > 10 :\n",
    "            numerical_col_dict[col] = 'Continuous'\n",
    "\n",
    "        else :\n",
    "            numerical_col_dict[col] = 'Discrete'\n",
    "    categorical_col_dict = {}\n",
    "    for col in categorical_columns :\n",
    "        if df[col].nunique() > 10 :\n",
    "            categorical_col_dict[col] = 'Continuous'\n",
    "\n",
    "        else :\n",
    "            categorical_col_dict[col] = 'Classes'\n",
    "    x = []\n",
    "    for col in df.columns :\n",
    "        x.append([col , df[col].unique() ,df[col].nunique(),df[col].dtype,df[col].isna().sum(),int((df[col].isna().sum())/df.shape[0] * 100)  ])\n",
    "\n",
    "    x = pd.DataFrame(x ,columns=['Feature','Unique_Values','No.OfUniqueValues','DataType','NoOfNulls','Nulls %'])\n",
    "\n",
    "    print('\\n','There is : {}  Nulls, Representing {} % of The Data'.format(nulls , '%.2f'%nulls_per ))\n",
    "    print('\\n','There is : {}  Duplicated, Representing {} % of The Data'.format(dup , '%.2f'%dup_per))\n",
    "    print('\\n','Numerical Columns : {}'.format(numerical_col_dict))\n",
    "    print('\\n','Categorical Columns : {}'.format(categorical_col_dict))\n",
    "\n",
    "    return x\n",
    "Information(df)"
   ]
  },
  {
   "cell_type": "code",
   "execution_count": 185,
   "metadata": {},
   "outputs": [],
   "source": [
    "df.drop('Over18',axis='columns',inplace=True)\n",
    "df.drop('EmployeeCount',axis='columns',inplace=True)\n",
    "df.drop('StandardHours',axis='columns',inplace=True)"
   ]
  },
  {
   "cell_type": "code",
   "execution_count": 186,
   "metadata": {},
   "outputs": [
    {
     "name": "stdout",
     "output_type": "stream",
     "text": [
      "Columns with both 'Yes' and 'No': ['Attrition', 'OverTime']\n"
     ]
    }
   ],
   "source": [
    "columns_with_yes_no = [col for col in df.columns if df[col].isin(['Yes', 'No']).all()]\n",
    "\n",
    "print(\"Columns with both 'Yes' and 'No':\", columns_with_yes_no)"
   ]
  },
  {
   "cell_type": "code",
   "execution_count": 187,
   "metadata": {},
   "outputs": [],
   "source": [
    "df['Attrition'] = df['Attrition'].replace({'Yes':1, 'No':0})\n",
    "df['Gender'] = df['Gender'].replace({'Female':1, 'Male':0})\n",
    "df['OverTime'] = df['OverTime'].replace({'Yes':1, 'No':0})"
   ]
  },
  {
   "cell_type": "code",
   "execution_count": 188,
   "metadata": {},
   "outputs": [
    {
     "data": {
      "text/plain": [
       "Index(['Age', 'Attrition', 'BusinessTravel', 'DailyRate', 'Department',\n",
       "       'DistanceFromHome', 'Education', 'EducationField', 'EmployeeNumber',\n",
       "       'EnvironmentSatisfaction', 'Gender', 'HourlyRate', 'JobInvolvement',\n",
       "       'JobLevel', 'JobRole', 'JobSatisfaction', 'MaritalStatus',\n",
       "       'MonthlyIncome', 'MonthlyRate', 'NumCompaniesWorked', 'OverTime',\n",
       "       'PercentSalaryHike', 'PerformanceRating', 'RelationshipSatisfaction',\n",
       "       'StockOptionLevel', 'TotalWorkingYears', 'TrainingTimesLastYear',\n",
       "       'WorkLifeBalance', 'YearsAtCompany', 'YearsInCurrentRole',\n",
       "       'YearsSinceLastPromotion', 'YearsWithCurrManager'],\n",
       "      dtype='object')"
      ]
     },
     "execution_count": 188,
     "metadata": {},
     "output_type": "execute_result"
    }
   ],
   "source": [
    "df.columns"
   ]
  },
  {
   "cell_type": "code",
   "execution_count": 189,
   "metadata": {},
   "outputs": [
    {
     "name": "stdout",
     "output_type": "stream",
     "text": [
      "Continuous Numerical Columns:\n",
      "Age\n",
      "DailyRate\n",
      "DistanceFromHome\n",
      "EmployeeNumber\n",
      "HourlyRate\n",
      "MonthlyIncome\n",
      "MonthlyRate\n",
      "PercentSalaryHike\n",
      "TotalWorkingYears\n",
      "YearsAtCompany\n",
      "YearsInCurrentRole\n",
      "YearsSinceLastPromotion\n",
      "YearsWithCurrManager\n",
      "\n",
      "Discrete Numerical Columns:\n",
      "Attrition\n",
      "Education\n",
      "EnvironmentSatisfaction\n",
      "Gender\n",
      "JobInvolvement\n",
      "JobLevel\n",
      "JobSatisfaction\n",
      "NumCompaniesWorked\n",
      "OverTime\n",
      "PerformanceRating\n",
      "RelationshipSatisfaction\n",
      "StockOptionLevel\n",
      "TrainingTimesLastYear\n",
      "WorkLifeBalance\n",
      "\n",
      "Categorical Columns with Classes:\n",
      "BusinessTravel\n",
      "Department\n",
      "EducationField\n",
      "JobRole\n",
      "MaritalStatus\n"
     ]
    }
   ],
   "source": [
    "def information(df):\n",
    "    df.replace('?' , np.nan , inplace = True )\n",
    "    numerical_columns = list((df.select_dtypes(include=np.number)).columns)\n",
    "    categorical_columns = list(df.select_dtypes(include = ['object']).columns)\n",
    "    numerical_col_dict = {}\n",
    "    for col in numerical_columns :\n",
    "        if df[col].nunique() > 10 :\n",
    "            numerical_col_dict[col] = 'Continuous'\n",
    "        else :\n",
    "            numerical_col_dict[col] = 'Discrete'\n",
    "    categorical_col_dict = {}\n",
    "    for col in categorical_columns :\n",
    "        if df[col].nunique() > 10 :\n",
    "            categorical_col_dict[col] = 'Continuous'\n",
    "        else :\n",
    "            categorical_col_dict[col] = 'Classes'\n",
    "\n",
    "    print('Continuous Numerical Columns:')\n",
    "    for col, dtype in numerical_col_dict.items():\n",
    "        if dtype == 'Continuous':\n",
    "            print(col)\n",
    "\n",
    "    print('\\nDiscrete Numerical Columns:')\n",
    "    for col, dtype in numerical_col_dict.items():\n",
    "        if dtype == 'Discrete':\n",
    "            print(col)\n",
    "\n",
    "    print('\\nCategorical Columns with Classes:')\n",
    "    for col, dtype in categorical_col_dict.items():\n",
    "        if dtype == 'Classes':\n",
    "            print(col)\n",
    "\n",
    "information(df)"
   ]
  },
  {
   "cell_type": "markdown",
   "metadata": {},
   "source": [
    "Standardization:<br>\n",
    "Age, DailyRate,  DistanceFromHome, Education, EmployeeNumber, \tEnvironmentSatisfaction, HourlyRate, JobInvolvement, JobLevel,  JobSatisfaction, MonthlyIncome, MonthlyRate, NumCompaniesWorked, PercentSalaryHike, PerformanceRating, RelationshipSatisfaction, StockOptionLevel, TotalWorkingYears, TrainingTimesLastYear, WorkLifeBalance\t, YearsAtCompany, YearsInCurrentRole, YearsSinceLastPromotion, YearsWithCurrManager\n",
    "\n",
    "OneHotEncoding:<br>\n",
    "BusinessTravel, Department, EducationField, JobRole, MaritalStatus \n"
   ]
  },
  {
   "cell_type": "code",
   "execution_count": 190,
   "metadata": {},
   "outputs": [
    {
     "name": "stdout",
     "output_type": "stream",
     "text": [
      "BusinessTravel: ['Travel_Rarely' 'Travel_Frequently' 'Non-Travel']\n",
      "Department: ['Sales' 'Research & Development' 'Human Resources']\n",
      "EducationField: ['Life Sciences' 'Other' 'Medical' 'Marketing' 'Technical Degree'\n",
      " 'Human Resources']\n",
      "JobRole: ['Sales Executive' 'Research Scientist' 'Laboratory Technician'\n",
      " 'Manufacturing Director' 'Healthcare Representative' 'Manager'\n",
      " 'Sales Representative' 'Research Director' 'Human Resources']\n",
      "MaritalStatus: ['Single' 'Married' 'Divorced']\n"
     ]
    }
   ],
   "source": [
    "def print_unique_col_values(df):\n",
    "       for column in df:\n",
    "            if df[column].dtypes=='object':\n",
    "                print(f'{column}: {df[column].unique()}')\n",
    "                \n",
    "print_unique_col_values(df)  "
   ]
  },
  {
   "cell_type": "code",
   "execution_count": 191,
   "metadata": {},
   "outputs": [
    {
     "data": {
      "text/plain": [
       "(1470, 32)"
      ]
     },
     "execution_count": 191,
     "metadata": {},
     "output_type": "execute_result"
    }
   ],
   "source": [
    "df.shape"
   ]
  },
  {
   "cell_type": "markdown",
   "metadata": {},
   "source": [
    "**One-Hot Encoding**<br>\n",
    "It is basically used to convert categorical data into a numerical format that machine learning algorithms can understand."
   ]
  },
  {
   "cell_type": "code",
   "execution_count": 192,
   "metadata": {},
   "outputs": [
    {
     "data": {
      "text/plain": [
       "Index(['Age', 'Attrition', 'DailyRate', 'DistanceFromHome', 'Education',\n",
       "       'EmployeeNumber', 'EnvironmentSatisfaction', 'Gender', 'HourlyRate',\n",
       "       'JobInvolvement', 'JobLevel', 'JobSatisfaction', 'MonthlyIncome',\n",
       "       'MonthlyRate', 'NumCompaniesWorked', 'OverTime', 'PercentSalaryHike',\n",
       "       'PerformanceRating', 'RelationshipSatisfaction', 'StockOptionLevel',\n",
       "       'TotalWorkingYears', 'TrainingTimesLastYear', 'WorkLifeBalance',\n",
       "       'YearsAtCompany', 'YearsInCurrentRole', 'YearsSinceLastPromotion',\n",
       "       'YearsWithCurrManager', 'BusinessTravel_Non-Travel',\n",
       "       'BusinessTravel_Travel_Frequently', 'BusinessTravel_Travel_Rarely',\n",
       "       'Department_Human Resources', 'Department_Research & Development',\n",
       "       'Department_Sales', 'EducationField_Human Resources',\n",
       "       'EducationField_Life Sciences', 'EducationField_Marketing',\n",
       "       'EducationField_Medical', 'EducationField_Other',\n",
       "       'EducationField_Technical Degree', 'JobRole_Healthcare Representative',\n",
       "       'JobRole_Human Resources', 'JobRole_Laboratory Technician',\n",
       "       'JobRole_Manager', 'JobRole_Manufacturing Director',\n",
       "       'JobRole_Research Director', 'JobRole_Research Scientist',\n",
       "       'JobRole_Sales Executive', 'JobRole_Sales Representative',\n",
       "       'MaritalStatus_Divorced', 'MaritalStatus_Married',\n",
       "       'MaritalStatus_Single'],\n",
       "      dtype='object')"
      ]
     },
     "execution_count": 192,
     "metadata": {},
     "output_type": "execute_result"
    }
   ],
   "source": [
    "df = pd.get_dummies(data=df, columns=['BusinessTravel','Department','EducationField','JobRole','MaritalStatus'])\n",
    "dummy_columns = df.select_dtypes(include='bool').columns\n",
    "df[dummy_columns] = df[dummy_columns].astype('uint8')\n",
    "df.columns"
   ]
  },
  {
   "cell_type": "code",
   "execution_count": 193,
   "metadata": {},
   "outputs": [
    {
     "data": {
      "text/plain": [
       "(1470, 51)"
      ]
     },
     "execution_count": 193,
     "metadata": {},
     "output_type": "execute_result"
    }
   ],
   "source": [
    "df.shape"
   ]
  },
  {
   "cell_type": "code",
   "execution_count": 194,
   "metadata": {},
   "outputs": [
    {
     "data": {
      "text/plain": [
       "Age                                  int64\n",
       "Attrition                            int64\n",
       "DailyRate                            int64\n",
       "DistanceFromHome                     int64\n",
       "Education                            int64\n",
       "EmployeeNumber                       int64\n",
       "EnvironmentSatisfaction              int64\n",
       "Gender                               int64\n",
       "HourlyRate                           int64\n",
       "JobInvolvement                       int64\n",
       "JobLevel                             int64\n",
       "JobSatisfaction                      int64\n",
       "MonthlyIncome                        int64\n",
       "MonthlyRate                          int64\n",
       "NumCompaniesWorked                   int64\n",
       "OverTime                             int64\n",
       "PercentSalaryHike                    int64\n",
       "PerformanceRating                    int64\n",
       "RelationshipSatisfaction             int64\n",
       "StockOptionLevel                     int64\n",
       "TotalWorkingYears                    int64\n",
       "TrainingTimesLastYear                int64\n",
       "WorkLifeBalance                      int64\n",
       "YearsAtCompany                       int64\n",
       "YearsInCurrentRole                   int64\n",
       "YearsSinceLastPromotion              int64\n",
       "YearsWithCurrManager                 int64\n",
       "BusinessTravel_Non-Travel            uint8\n",
       "BusinessTravel_Travel_Frequently     uint8\n",
       "BusinessTravel_Travel_Rarely         uint8\n",
       "Department_Human Resources           uint8\n",
       "Department_Research & Development    uint8\n",
       "Department_Sales                     uint8\n",
       "EducationField_Human Resources       uint8\n",
       "EducationField_Life Sciences         uint8\n",
       "EducationField_Marketing             uint8\n",
       "EducationField_Medical               uint8\n",
       "EducationField_Other                 uint8\n",
       "EducationField_Technical Degree      uint8\n",
       "JobRole_Healthcare Representative    uint8\n",
       "JobRole_Human Resources              uint8\n",
       "JobRole_Laboratory Technician        uint8\n",
       "JobRole_Manager                      uint8\n",
       "JobRole_Manufacturing Director       uint8\n",
       "JobRole_Research Director            uint8\n",
       "JobRole_Research Scientist           uint8\n",
       "JobRole_Sales Executive              uint8\n",
       "JobRole_Sales Representative         uint8\n",
       "MaritalStatus_Divorced               uint8\n",
       "MaritalStatus_Married                uint8\n",
       "MaritalStatus_Single                 uint8\n",
       "dtype: object"
      ]
     },
     "execution_count": 194,
     "metadata": {},
     "output_type": "execute_result"
    }
   ],
   "source": [
    "df.dtypes"
   ]
  },
  {
   "cell_type": "code",
   "execution_count": 195,
   "metadata": {},
   "outputs": [
    {
     "data": {
      "text/html": [
       "<div>\n",
       "<style scoped>\n",
       "    .dataframe tbody tr th:only-of-type {\n",
       "        vertical-align: middle;\n",
       "    }\n",
       "\n",
       "    .dataframe tbody tr th {\n",
       "        vertical-align: top;\n",
       "    }\n",
       "\n",
       "    .dataframe thead th {\n",
       "        text-align: right;\n",
       "    }\n",
       "</style>\n",
       "<table border=\"1\" class=\"dataframe\">\n",
       "  <thead>\n",
       "    <tr style=\"text-align: right;\">\n",
       "      <th></th>\n",
       "      <th>Age</th>\n",
       "      <th>Attrition</th>\n",
       "      <th>DailyRate</th>\n",
       "      <th>DistanceFromHome</th>\n",
       "      <th>Education</th>\n",
       "      <th>EmployeeNumber</th>\n",
       "      <th>EnvironmentSatisfaction</th>\n",
       "      <th>Gender</th>\n",
       "      <th>HourlyRate</th>\n",
       "      <th>JobInvolvement</th>\n",
       "      <th>...</th>\n",
       "      <th>JobRole_Laboratory Technician</th>\n",
       "      <th>JobRole_Manager</th>\n",
       "      <th>JobRole_Manufacturing Director</th>\n",
       "      <th>JobRole_Research Director</th>\n",
       "      <th>JobRole_Research Scientist</th>\n",
       "      <th>JobRole_Sales Executive</th>\n",
       "      <th>JobRole_Sales Representative</th>\n",
       "      <th>MaritalStatus_Divorced</th>\n",
       "      <th>MaritalStatus_Married</th>\n",
       "      <th>MaritalStatus_Single</th>\n",
       "    </tr>\n",
       "  </thead>\n",
       "  <tbody>\n",
       "    <tr>\n",
       "      <th>0</th>\n",
       "      <td>41</td>\n",
       "      <td>1</td>\n",
       "      <td>1102</td>\n",
       "      <td>1</td>\n",
       "      <td>2</td>\n",
       "      <td>1</td>\n",
       "      <td>2</td>\n",
       "      <td>1</td>\n",
       "      <td>94</td>\n",
       "      <td>3</td>\n",
       "      <td>...</td>\n",
       "      <td>0</td>\n",
       "      <td>0</td>\n",
       "      <td>0</td>\n",
       "      <td>0</td>\n",
       "      <td>0</td>\n",
       "      <td>1</td>\n",
       "      <td>0</td>\n",
       "      <td>0</td>\n",
       "      <td>0</td>\n",
       "      <td>1</td>\n",
       "    </tr>\n",
       "    <tr>\n",
       "      <th>1</th>\n",
       "      <td>49</td>\n",
       "      <td>0</td>\n",
       "      <td>279</td>\n",
       "      <td>8</td>\n",
       "      <td>1</td>\n",
       "      <td>2</td>\n",
       "      <td>3</td>\n",
       "      <td>0</td>\n",
       "      <td>61</td>\n",
       "      <td>2</td>\n",
       "      <td>...</td>\n",
       "      <td>0</td>\n",
       "      <td>0</td>\n",
       "      <td>0</td>\n",
       "      <td>0</td>\n",
       "      <td>1</td>\n",
       "      <td>0</td>\n",
       "      <td>0</td>\n",
       "      <td>0</td>\n",
       "      <td>1</td>\n",
       "      <td>0</td>\n",
       "    </tr>\n",
       "    <tr>\n",
       "      <th>2</th>\n",
       "      <td>37</td>\n",
       "      <td>1</td>\n",
       "      <td>1373</td>\n",
       "      <td>2</td>\n",
       "      <td>2</td>\n",
       "      <td>4</td>\n",
       "      <td>4</td>\n",
       "      <td>0</td>\n",
       "      <td>92</td>\n",
       "      <td>2</td>\n",
       "      <td>...</td>\n",
       "      <td>1</td>\n",
       "      <td>0</td>\n",
       "      <td>0</td>\n",
       "      <td>0</td>\n",
       "      <td>0</td>\n",
       "      <td>0</td>\n",
       "      <td>0</td>\n",
       "      <td>0</td>\n",
       "      <td>0</td>\n",
       "      <td>1</td>\n",
       "    </tr>\n",
       "    <tr>\n",
       "      <th>3</th>\n",
       "      <td>33</td>\n",
       "      <td>0</td>\n",
       "      <td>1392</td>\n",
       "      <td>3</td>\n",
       "      <td>4</td>\n",
       "      <td>5</td>\n",
       "      <td>4</td>\n",
       "      <td>1</td>\n",
       "      <td>56</td>\n",
       "      <td>3</td>\n",
       "      <td>...</td>\n",
       "      <td>0</td>\n",
       "      <td>0</td>\n",
       "      <td>0</td>\n",
       "      <td>0</td>\n",
       "      <td>1</td>\n",
       "      <td>0</td>\n",
       "      <td>0</td>\n",
       "      <td>0</td>\n",
       "      <td>1</td>\n",
       "      <td>0</td>\n",
       "    </tr>\n",
       "    <tr>\n",
       "      <th>4</th>\n",
       "      <td>27</td>\n",
       "      <td>0</td>\n",
       "      <td>591</td>\n",
       "      <td>2</td>\n",
       "      <td>1</td>\n",
       "      <td>7</td>\n",
       "      <td>1</td>\n",
       "      <td>0</td>\n",
       "      <td>40</td>\n",
       "      <td>3</td>\n",
       "      <td>...</td>\n",
       "      <td>1</td>\n",
       "      <td>0</td>\n",
       "      <td>0</td>\n",
       "      <td>0</td>\n",
       "      <td>0</td>\n",
       "      <td>0</td>\n",
       "      <td>0</td>\n",
       "      <td>0</td>\n",
       "      <td>1</td>\n",
       "      <td>0</td>\n",
       "    </tr>\n",
       "  </tbody>\n",
       "</table>\n",
       "<p>5 rows × 51 columns</p>\n",
       "</div>"
      ],
      "text/plain": [
       "   Age  Attrition  DailyRate  DistanceFromHome  Education  EmployeeNumber  \\\n",
       "0   41          1       1102                 1          2               1   \n",
       "1   49          0        279                 8          1               2   \n",
       "2   37          1       1373                 2          2               4   \n",
       "3   33          0       1392                 3          4               5   \n",
       "4   27          0        591                 2          1               7   \n",
       "\n",
       "   EnvironmentSatisfaction  Gender  HourlyRate  JobInvolvement  ...  \\\n",
       "0                        2       1          94               3  ...   \n",
       "1                        3       0          61               2  ...   \n",
       "2                        4       0          92               2  ...   \n",
       "3                        4       1          56               3  ...   \n",
       "4                        1       0          40               3  ...   \n",
       "\n",
       "   JobRole_Laboratory Technician  JobRole_Manager  \\\n",
       "0                              0                0   \n",
       "1                              0                0   \n",
       "2                              1                0   \n",
       "3                              0                0   \n",
       "4                              1                0   \n",
       "\n",
       "   JobRole_Manufacturing Director  JobRole_Research Director  \\\n",
       "0                               0                          0   \n",
       "1                               0                          0   \n",
       "2                               0                          0   \n",
       "3                               0                          0   \n",
       "4                               0                          0   \n",
       "\n",
       "   JobRole_Research Scientist  JobRole_Sales Executive  \\\n",
       "0                           0                        1   \n",
       "1                           1                        0   \n",
       "2                           0                        0   \n",
       "3                           1                        0   \n",
       "4                           0                        0   \n",
       "\n",
       "   JobRole_Sales Representative  MaritalStatus_Divorced  \\\n",
       "0                             0                       0   \n",
       "1                             0                       0   \n",
       "2                             0                       0   \n",
       "3                             0                       0   \n",
       "4                             0                       0   \n",
       "\n",
       "   MaritalStatus_Married  MaritalStatus_Single  \n",
       "0                      0                     1  \n",
       "1                      1                     0  \n",
       "2                      0                     1  \n",
       "3                      1                     0  \n",
       "4                      1                     0  \n",
       "\n",
       "[5 rows x 51 columns]"
      ]
     },
     "execution_count": 195,
     "metadata": {},
     "output_type": "execute_result"
    }
   ],
   "source": [
    "df.head()"
   ]
  },
  {
   "cell_type": "markdown",
   "metadata": {},
   "source": [
    "**Normalization Of the Numerical Columns**"
   ]
  },
  {
   "cell_type": "code",
   "execution_count": 196,
   "metadata": {},
   "outputs": [],
   "source": [
    "cols_to_scale = ['Age', 'DailyRate',  'DistanceFromHome', 'Education', 'EmployeeNumber','EnvironmentSatisfaction', 'HourlyRate', 'JobInvolvement', 'JobLevel',  'JobSatisfaction', 'MonthlyIncome', 'MonthlyRate', 'NumCompaniesWorked', 'PercentSalaryHike', 'PerformanceRating', 'RelationshipSatisfaction', 'StockOptionLevel', 'TotalWorkingYears', 'TrainingTimesLastYear', 'WorkLifeBalance'\t, 'YearsAtCompany', 'YearsInCurrentRole', 'YearsSinceLastPromotion', 'YearsWithCurrManager']\n",
    "\n",
    "from sklearn.preprocessing import MinMaxScaler\n",
    "scaler = MinMaxScaler()\n",
    "df[cols_to_scale] = scaler.fit_transform(df[cols_to_scale])\n"
   ]
  },
  {
   "cell_type": "code",
   "execution_count": 197,
   "metadata": {},
   "outputs": [
    {
     "name": "stdout",
     "output_type": "stream",
     "text": [
      "Age: [0.54761905 0.73809524 0.45238095 0.35714286 0.21428571 0.33333333\n",
      " 0.97619048 0.28571429 0.47619048 0.42857143 0.4047619  0.26190476\n",
      " 0.30952381 0.38095238 0.23809524 0.0952381  0.83333333 0.14285714\n",
      " 0.07142857 0.57142857 0.61904762 0.66666667 0.5        0.5952381\n",
      " 0.76190476 0.19047619 0.71428571 0.88095238 0.64285714 0.9047619\n",
      " 0.11904762 0.78571429 0.52380952 0.85714286 0.95238095 0.04761905\n",
      " 0.16666667 0.02380952 0.92857143 0.80952381 0.69047619 0.\n",
      " 1.        ]\n",
      "Attrition: [1 0]\n",
      "DailyRate: [7.15819613e-01 1.26700072e-01 9.09806729e-01 9.23407301e-01\n",
      " 3.50035791e-01 6.46385111e-01 8.74731568e-01 8.99069435e-01\n",
      " 8.16034359e-02 8.56836077e-01 5.06084467e-01 3.65068003e-02\n",
      " 4.06585540e-01 8.90479599e-01 7.15819613e-04 9.21259843e-01\n",
      " 1.66070150e-01 7.30851825e-01 7.99570508e-01 1.92555476e-01\n",
      " 4.08732999e-01 7.98854689e-01 2.26914817e-01 2.06871868e-01\n",
      " 4.27344309e-01 8.44667144e-01 7.32283465e-01 4.21617752e-01\n",
      " 2.68432355e-01 4.31639227e-01 5.88403722e-01 9.71367215e-01\n",
      " 1.64638511e-02 5.67644953e-01 5.08947745e-01 8.38224767e-01\n",
      " 5.49033644e-01 5.64065855e-01 5.36864710e-01 7.43736578e-01\n",
      " 2.59126700e-01 8.14602720e-01 8.98353615e-01 6.38511095e-01\n",
      " 4.43092341e-01 9.00501074e-01 6.89334288e-01 2.19040802e-01\n",
      " 7.93843951e-01 8.06728704e-01 3.75089477e-01 9.53471725e-01\n",
      " 9.92125984e-01 7.12240515e-01 9.59914102e-01 2.95633500e-01\n",
      " 5.37580530e-01 7.44452398e-01 3.95848246e-01 7.25125268e-01\n",
      " 2.32641374e-01 3.94416607e-01 6.34931997e-01 9.54187545e-01\n",
      " 8.02433787e-01 5.25411596e-01 7.82390838e-01 8.85468862e-01\n",
      " 4.02290623e-01 1.54617037e-01 8.03865426e-01 8.77594846e-01\n",
      " 7.01503221e-01 3.19255548e-01 2.14745884e-02 4.60987831e-01\n",
      " 4.82462419e-01 6.51395848e-02 2.11166786e-01 6.03435934e-01\n",
      " 7.95991410e-01 6.44237652e-03 3.37151038e-01 7.52326414e-01\n",
      " 9.29133858e-01 3.14244810e-01 2.36220472e-01 1.33142448e-01\n",
      " 4.05869721e-01 3.06370795e-01 3.79384395e-01 8.81889764e-01\n",
      " 3.83679313e-01 7.09377237e-01 7.98138869e-01 8.95490336e-01\n",
      " 1.28847530e-02 4.15175376e-01 2.77022190e-01 5.04652827e-01\n",
      " 5.18969220e-01 5.50465283e-01 4.03006442e-01 6.71438797e-01\n",
      " 9.43450251e-01 9.87831067e-02 8.43235505e-01 3.09234073e-01\n",
      " 9.69219757e-01 3.97995705e-01 2.86327845e-02 7.33715104e-01\n",
      " 6.64996421e-01 7.78095920e-01 8.96206156e-01 9.77093772e-01\n",
      " 5.86972083e-01 2.09019327e-01 8.66141732e-01 4.63851110e-01\n",
      " 2.42662849e-01 4.16607015e-01 1.05225483e-01 5.28990694e-01\n",
      " 3.22118826e-02 3.04939155e-01 3.52183250e-01 2.63421618e-01\n",
      " 6.12025770e-01 3.14960630e-01 5.01073729e-01 8.96921976e-01\n",
      " 7.50178955e-01 8.78310666e-01 6.13457409e-01 6.66428060e-01\n",
      " 8.69005011e-01 1.87544739e-01 2.40515390e-01 4.20186113e-01\n",
      " 7.08661417e-02 9.48460988e-01 5.40443808e-01 5.94846099e-01\n",
      " 7.72369363e-01 9.25554760e-01 4.00858984e-01 9.54903364e-01\n",
      " 6.58554044e-02 6.19183966e-01 9.97852541e-01 7.63779528e-01\n",
      " 7.46599857e-01 3.77952756e-01 1.43879742e-01 8.26055834e-01\n",
      " 2.41947029e-01 9.64924839e-01 9.66356478e-01 2.59842520e-01\n",
      " 4.29491768e-01 7.55189692e-01 3.57909807e-01 9.86399427e-01\n",
      " 8.34645669e-01 4.37365784e-01 2.29062276e-02 3.03507516e-01\n",
      " 9.14817466e-01 2.72011453e-02 3.77236936e-01 8.97637795e-01\n",
      " 1.61775233e-01 7.02934860e-01 5.93414460e-01 4.22333572e-01\n",
      " 6.92197566e-01 1.51037938e-01 5.66929134e-01 3.24982105e-01\n",
      " 8.89047960e-01 1.34574087e-01 2.57695061e-02 5.89835361e-01\n",
      " 8.29634932e-01 2.64853257e-01 6.44237652e-01 5.55476020e-01\n",
      " 5.74803150e-01 7.71653543e-01 1.36005727e-02 7.40157480e-01\n",
      " 3.81531854e-01 7.50894775e-01 3.87974230e-01 6.75017895e-01\n",
      " 5.20400859e-01 8.16034359e-01 9.78525412e-01 5.68360773e-01\n",
      " 6.37079456e-01 6.80028633e-01 7.48031496e-01 9.26270580e-01\n",
      " 4.01574803e-01 1.21689334e-02 6.27773801e-01 1.55332856e-01\n",
      " 9.38439513e-01 6.02720115e-01 8.74015748e-01 3.07802434e-01\n",
      " 5.12526843e-01 5.38296349e-01 6.67143880e-01 4.78883321e-01\n",
      " 9.29849678e-01 9.51324266e-01 6.25626342e-01 9.37007874e-01\n",
      " 8.57551897e-01 1.07372942e-01 8.76879026e-01 5.22548318e-01\n",
      " 6.54974946e-01 7.85254116e-01 2.87759485e-01 2.88475304e-01\n",
      " 5.82677165e-01 8.19613457e-01 4.17322835e-01 1.19541875e-01\n",
      " 9.40586972e-01 5.23264137e-01 1.46743021e-01 8.65425913e-01\n",
      " 1.86113099e-02 2.76306371e-01 3.05654975e-01 7.93128132e-01\n",
      " 9.74230494e-01 4.10164639e-01 9.18396564e-01 9.31281317e-01\n",
      " 2.50536865e-01 4.03722262e-01 7.55905512e-01 9.01932713e-02\n",
      " 6.39942734e-01 4.48103078e-01 8.68289191e-01 1.57480315e-01\n",
      " 9.85683608e-01 4.97494631e-01 6.92913386e-01 2.43378669e-01\n",
      " 2.82032928e-01 9.09090909e-01 5.85540444e-01 4.19470293e-01\n",
      " 9.64209019e-01 7.26556908e-01 3.82247674e-01 2.89191124e-01\n",
      " 2.44810308e-01 6.07015032e-01 5.63350036e-01 3.24266285e-01\n",
      " 9.16249105e-02 8.08876163e-01 3.32140301e-01 8.58983536e-01\n",
      " 5.08231926e-01 9.83536149e-01 8.30350752e-02 7.37294202e-01\n",
      " 7.17967072e-01 5.75518969e-01 5.34717251e-01 2.06156049e-01\n",
      " 2.86327845e-03 8.21045097e-01 6.44237652e-02 3.22834646e-01\n",
      " 1.07372942e-02 5.94130279e-02 7.07945598e-01 4.44523980e-01\n",
      " 8.00286328e-01 3.47888332e-01 9.12670007e-01 6.55690766e-01\n",
      " 8.39656407e-01 4.98210451e-01 4.08017180e-01 7.58768790e-01\n",
      " 2.90622763e-01 9.87831067e-01 3.27129563e-01 7.73085183e-02\n",
      " 5.91267001e-01 6.43521832e-01 3.19971367e-01 7.31567645e-01\n",
      " 4.55261274e-01 3.35003579e-01 7.35862563e-01 7.80243379e-01\n",
      " 1.72512527e-01 3.00644238e-02 8.54688618e-01 8.63994273e-01\n",
      " 2.72727273e-01 5.06800286e-01 3.16392269e-01 6.87186829e-01\n",
      " 8.71152470e-01 3.85826772e-01 8.80458125e-01 4.68146027e-01\n",
      " 5.31853973e-01 3.51467430e-01 7.65211167e-01 1.77523264e-01\n",
      " 5.86256263e-01 7.45884037e-01 2.93486042e-02 6.75733715e-01\n",
      " 3.38582677e-01 3.86542591e-02 8.45382963e-01 4.67430208e-01\n",
      " 1.44595562e-01 7.70221904e-01 1.62491052e-01 9.01932713e-01\n",
      " 9.08375089e-01 7.15819613e-02 1.08088762e-01 4.43808160e-02\n",
      " 7.19398712e-01 4.70293486e-01 8.61130995e-01 6.29921260e-01\n",
      " 5.14674302e-01 9.15533286e-01 2.70579814e-01 9.81388690e-01\n",
      " 5.64781675e-01 6.87902649e-01 3.88690050e-01 9.93557623e-01\n",
      " 1.53901217e-01 2.29062276e-01 9.89978525e-01 9.06227631e-01\n",
      " 9.63493200e-01 1.38869005e-01 9.27702219e-01 8.92627058e-01\n",
      " 6.32784538e-01 7.13672155e-01 7.25841088e-01 1.00000000e+00\n",
      " 6.30637079e-01 6.49248389e-01 8.59699356e-01 8.38940587e-01\n",
      " 8.41088046e-01 3.47172513e-01 2.22619900e-01 8.40372226e-01\n",
      " 6.34216178e-01 9.82104510e-01 4.36649964e-02 1.18110236e-01\n",
      " 3.70078740e-01 1.43163923e-01 2.44094488e-01 5.19685039e-01\n",
      " 3.28561203e-01 2.31925555e-01 9.30565497e-02 8.61846815e-01\n",
      " 7.10093057e-01 2.91338583e-01 4.81746600e-01 6.65712241e-02\n",
      " 1.11667860e-01 2.64137437e-01 4.98926271e-01 6.11309950e-01\n",
      " 3.09949893e-01 9.97136722e-01 2.46241947e-01 8.18181818e-01\n",
      " 4.30207588e-01 5.16105941e-01 8.18897638e-01 3.72226199e-01\n",
      " 8.48246242e-01 2.47673586e-01 1.08804581e-01 9.04080172e-01\n",
      " 3.12097351e-01 3.02791696e-01 3.26413744e-01 4.86757337e-01\n",
      " 1.86113099e-01 8.11739442e-01 7.22977810e-01 7.30136006e-02\n",
      " 8.88332140e-01 3.59341446e-01 7.97423049e-01 3.89405870e-01\n",
      " 4.15175376e-02 9.73514674e-02 9.26986399e-01 1.46027201e-01\n",
      " 6.36363636e-01 2.72011453e-01 7.68790265e-01 5.80529707e-01\n",
      " 6.97208304e-01 4.47387258e-01 5.60486757e-01 1.00930565e-01\n",
      " 5.03937008e-01 5.11811024e-01 9.36292054e-01 7.90980673e-01\n",
      " 9.59198282e-01 4.23049392e-01 5.91982820e-01 3.29277022e-01\n",
      " 3.62204724e-01 3.42161775e-01 6.21331424e-01 7.70937724e-01\n",
      " 1.37437366e-01 1.51753758e-01 1.53185397e-01 3.95132427e-01\n",
      " 4.72440945e-02 1.99713672e-01 8.23192555e-02 2.85612026e-01\n",
      " 3.92269148e-01 2.79169649e-02 5.02505369e-01 6.24910523e-01\n",
      " 7.07229778e-01 1.74659986e-01 2.34788833e-01 1.18826056e-01\n",
      " 4.65282749e-02 3.71510379e-01 3.04223336e-01 5.59055118e-01\n",
      " 6.09878311e-01 1.48890480e-01 4.41660702e-01 4.45955619e-01\n",
      " 4.38797423e-01 3.97279885e-01 7.47315676e-01 5.72655691e-02\n",
      " 1.96134574e-01 3.35719399e-01 2.01861131e-01 4.93199714e-01\n",
      " 7.22261990e-01 8.16750179e-01 7.08661417e-01 8.75447387e-01\n",
      " 5.03221188e-01 7.94559771e-02 1.14531138e-02 4.10880458e-01\n",
      " 8.23192555e-01 1.31710809e-01 8.27487473e-01 5.94130279e-01\n",
      " 6.72154617e-01 5.41875447e-01 4.42376521e-01 6.04151754e-01\n",
      " 7.74516822e-01 2.39083751e-01 3.48604152e-01 4.71009306e-01\n",
      " 5.61918397e-01 8.70436650e-01 3.74373658e-01 5.58339298e-02\n",
      " 3.46456693e-01 6.51395848e-01 4.00143164e-01 5.92698640e-01\n",
      " 1.71796707e-01 8.07444524e-01 8.36793128e-01 8.41803865e-01\n",
      " 3.61488905e-01 2.00429492e-02 1.41732283e-01 3.44309234e-01\n",
      " 9.42018611e-01 8.35361489e-01 1.98282033e-01 2.09735147e-01\n",
      " 8.32498210e-01 8.01717967e-01 1.71080888e-01 5.48317824e-01\n",
      " 8.08160344e-01 0.00000000e+00 5.57623479e-01 9.16964925e-01\n",
      " 6.96492484e-01 1.94702935e-01 7.04366500e-01 4.86041518e-01\n",
      " 5.36864710e-02 2.84896206e-01 9.47029349e-01 9.67788117e-01\n",
      " 3.68647101e-01 7.03650680e-01 6.39226915e-01 7.30136006e-01\n",
      " 3.69362921e-01 3.17823908e-01 2.57695061e-01 7.84538296e-01\n",
      " 8.37508948e-01 3.72226199e-02 7.40873300e-01 7.77380100e-01\n",
      " 6.15604868e-02 8.81173944e-01 5.47602004e-01 1.15246958e-01\n",
      " 5.98425197e-01 1.93271296e-02 3.67931281e-01 2.83464567e-01\n",
      " 9.31997137e-01 6.80744452e-01 1.33858268e-01 9.11954188e-01\n",
      " 9.23407301e-02 3.57909807e-02 5.58339298e-01 5.73371510e-01\n",
      " 9.14101646e-01 1.66785970e-01 4.43808160e-01 2.56979241e-01\n",
      " 6.24194703e-01 7.32999284e-01 5.28274875e-01 7.38725841e-01\n",
      " 1.04509664e-01 6.10594130e-01 5.99141016e-01 9.22691482e-01\n",
      " 7.90264853e-01 1.32426628e-01 9.58482462e-01 5.01073729e-03\n",
      " 6.90050107e-01 1.25268432e-01 2.60558339e-01 6.82176092e-01\n",
      " 1.16678597e-01 2.36220472e-02 1.03793844e-01 6.67859699e-01\n",
      " 1.17394417e-01 3.07802434e-02 6.70007158e-01 8.10307802e-01\n",
      " 7.20830351e-01 7.06513958e-01 4.91052255e-01 1.57480315e-02\n",
      " 3.99427344e-01 7.75948461e-01 9.74946314e-01 4.96778812e-01\n",
      " 2.24051539e-01 4.77451682e-01 6.44953472e-01 9.04795991e-01\n",
      " 1.63206872e-01 9.94989263e-01 7.88833214e-01 1.48174660e-01\n",
      " 8.79026485e-01 2.62705798e-01 4.25912670e-01 8.30350752e-01\n",
      " 6.78596994e-01 4.78167502e-01 2.17609162e-01 7.22977810e-02\n",
      " 8.63278454e-01 6.31352899e-01 2.41231210e-01 4.94631353e-01\n",
      " 9.65640659e-01 7.73085183e-01 5.15390122e-02 2.77738010e-01\n",
      " 4.40944882e-01 2.36936292e-01 4.80314961e-01 3.58625626e-01\n",
      " 5.52612742e-01 1.89692198e-01 6.94345025e-02 2.71295634e-01\n",
      " 3.90121689e-01 9.17680744e-01 5.72655691e-01 5.13242663e-01\n",
      " 5.44022906e-01 9.69935576e-01 6.26342162e-01 6.01288475e-01\n",
      " 9.30565497e-01 9.44166070e-01 9.01216893e-01 5.83392985e-01\n",
      " 7.01503221e-02 3.43593414e-02 5.51181102e-02 4.25196850e-01\n",
      " 1.00214746e-02 1.86828919e-01 3.57909807e-03 9.75662133e-01\n",
      " 2.54831782e-01 7.94559771e-01 7.16535433e-01 6.18468146e-01\n",
      " 6.49964209e-01 1.60343593e-01 7.12956335e-01 6.20615605e-01\n",
      " 7.62347888e-01 4.23765211e-01 8.71868289e-01 3.10665712e-01\n",
      " 1.93987115e-01 3.55762348e-01 1.06657122e-01 2.07587688e-02\n",
      " 9.66356478e-02 9.49892627e-01 3.90837509e-01 4.53113815e-01\n",
      " 3.07086614e-01 2.34073014e-01 6.19899785e-01 5.56191840e-01\n",
      " 3.85110952e-01 2.21904080e-01 5.34001432e-01 1.84681460e-01\n",
      " 7.41589120e-01 1.59627774e-01 8.73299928e-01 1.41016464e-01\n",
      " 6.64280601e-01 3.80816034e-01 3.02075877e-01 1.10236220e-01\n",
      " 6.85755190e-01 5.96277738e-01 2.81317108e-01 1.28847530e-01\n",
      " 7.44452398e-02 6.02004295e-01 3.01360057e-01 2.89906943e-01\n",
      " 3.57193987e-01 5.39012169e-01 8.51109520e-01 9.32712956e-01\n",
      " 9.06943450e-01 6.42090193e-01 7.87401575e-01 1.30994989e-01\n",
      " 2.16177523e-01 4.53829635e-01 9.99284180e-01 7.85969936e-01\n",
      " 9.57050823e-01 2.84180387e-01 7.37294202e-02 4.15891195e-01\n",
      " 9.73514674e-01 6.06299213e-01 3.93700787e-01 1.64638511e-01\n",
      " 9.82820329e-01 1.68217609e-01 6.22047244e-01 7.67358626e-01\n",
      " 4.04438082e-01 3.27845383e-01 5.01073729e-02 2.01145311e-01\n",
      " 8.25340014e-01 1.83965641e-01 2.14030064e-01 1.96850394e-01\n",
      " 3.50751611e-01 9.61345741e-01 8.01002147e-01 5.46886185e-01\n",
      " 6.29205440e-01 2.46957767e-01 8.76163207e-01 4.62419470e-01\n",
      " 6.35647817e-01 2.16893343e-01 9.30565497e-03 4.92483894e-01\n",
      " 5.21116679e-01 7.80959198e-01 9.45597709e-01 2.61274159e-01\n",
      " 1.20973515e-01 2.20472441e-01 7.02219041e-01 2.96349320e-01\n",
      " 8.73299928e-02 2.43378669e-02 6.63564782e-01 1.65354331e-01\n",
      " 9.57766643e-01 4.09448819e-01 8.87616321e-01 5.69792412e-01\n",
      " 5.16821761e-01 2.79169649e-01 3.55046528e-01 4.56692913e-01\n",
      " 5.62634216e-01 8.48962062e-01 1.43163923e-03 7.20114531e-01\n",
      " 2.69863994e-01 8.94058697e-01 2.66284896e-01 2.39799571e-01\n",
      " 5.59770938e-01 9.07659270e-01 1.15962777e-01 6.85039370e-01\n",
      " 3.29992842e-01 2.54115963e-01 8.66857552e-01 9.94989263e-02\n",
      " 6.53543307e-01 1.67501790e-01 9.19828203e-01 4.86757337e-02\n",
      " 7.58768790e-02 4.07301360e-01 4.35934145e-01 4.54545455e-01\n",
      " 9.79241231e-01 1.88260558e-01 4.73156764e-01 3.32856120e-01\n",
      " 2.74874732e-01 4.79599141e-01 1.42448103e-01 1.49606299e-01\n",
      " 3.45025054e-01 5.56907659e-01 2.07587688e-01 3.29277022e-02\n",
      " 4.33786686e-01 8.28203293e-01 4.89620616e-01 1.91839656e-01\n",
      " 4.12312097e-01 3.14960630e-02 3.42877595e-01 5.84108805e-01\n",
      " 8.13171081e-01 3.45740873e-01 4.57408733e-01 3.22118826e-01\n",
      " 1.91123837e-01 4.40229062e-01 3.15676450e-01 6.17036507e-01\n",
      " 4.93915533e-01 3.64352183e-01 5.29706514e-02 5.69076593e-01\n",
      " 3.56478168e-01 6.81460272e-01 2.33357194e-01 5.65497495e-02\n",
      " 7.80243379e-02 6.99355762e-01 3.49319971e-01 1.45311382e-01\n",
      " 6.09162491e-01 2.69148175e-01 9.11238368e-01 1.01646385e-01\n",
      " 2.92770222e-01 8.53256979e-01 6.72870437e-02 4.52397996e-01\n",
      " 8.13886901e-01 8.23908375e-01 7.34430923e-01 8.83321403e-01\n",
      " 9.44881890e-02 4.75304223e-01 1.13815319e-01 7.81675018e-01\n",
      " 2.35504653e-01 3.36435218e-01 9.44881890e-01 8.55404438e-01\n",
      " 3.37866858e-01 1.81102362e-01 7.51610594e-02 4.32355047e-01\n",
      " 1.27415891e-01 4.46671439e-01 2.23335719e-01 1.78954903e-01\n",
      " 8.03149606e-01 2.55547602e-01 8.24624195e-01 7.36578382e-01\n",
      " 5.24695777e-01 7.65926986e-01 8.33214030e-01 4.87473157e-01\n",
      " 8.37508948e-02 7.95275591e-01 7.11524696e-01 8.22476736e-01\n",
      " 9.24838941e-01 3.60057266e-01 6.88618468e-01 8.84037223e-01\n",
      " 5.97709377e-01 3.93700787e-02 4.66714388e-01 7.63063708e-01\n",
      " 3.79384395e-02 9.60629921e-01 6.22763064e-02 5.79098067e-01\n",
      " 8.72584109e-01 7.53042233e-01 3.25697924e-01 3.86542591e-01\n",
      " 5.00357910e-01 4.22333572e-02 9.16249105e-01 6.69291339e-01\n",
      " 2.14745884e-03 3.43593414e-01 4.30923407e-01 1.73944166e-01\n",
      " 7.28704366e-01 9.13385827e-01 2.61989979e-01 3.65783822e-01\n",
      " 6.59269864e-01 3.76521117e-01]\n",
      "DistanceFromHome: [0.         0.25       0.03571429 0.07142857 0.82142857 0.78571429\n",
      " 0.92857143 0.53571429 0.5        0.89285714 0.64285714 0.71428571\n",
      " 0.14285714 0.35714286 0.28571429 0.21428571 0.17857143 0.32142857\n",
      " 0.10714286 0.85714286 0.39285714 0.60714286 1.         0.75\n",
      " 0.46428571 0.67857143 0.96428571 0.57142857 0.42857143]\n",
      "Education: [0.25 0.   0.75 0.5  1.  ]\n",
      "EmployeeNumber: [0.00000000e+00 4.83792937e-04 1.45137881e-03 ... 9.98064828e-01\n",
      " 9.98548621e-01 1.00000000e+00]\n",
      "EnvironmentSatisfaction: [0.33333333 0.66666667 1.         0.        ]\n",
      "Gender: [1 0]\n",
      "HourlyRate: [0.91428571 0.44285714 0.88571429 0.37142857 0.14285714 0.7\n",
      " 0.72857143 0.52857143 0.2        0.77142857 0.27142857 0.01428571\n",
      " 0.9        0.28571429 0.3        0.71428571 0.94285714 0.68571429\n",
      " 0.21428571 0.74285714 0.32857143 0.75714286 0.4        0.6\n",
      " 0.25714286 0.17142857 0.15714286 0.8        0.95714286 0.64285714\n",
      " 0.04285714 0.1        0.61428571 0.97142857 0.08571429 0.24285714\n",
      " 0.58571429 0.         0.18571429 0.98571429 0.41428571 0.92857143\n",
      " 0.38571429 0.65714286 0.81428571 0.51428571 0.35714286 0.02857143\n",
      " 0.31428571 0.57142857 0.45714286 0.48571429 0.47142857 0.42857143\n",
      " 1.         0.22857143 0.12857143 0.67142857 0.07142857 0.87142857\n",
      " 0.34285714 0.05714286 0.85714286 0.5        0.82857143 0.78571429\n",
      " 0.84285714 0.54285714 0.55714286 0.62857143 0.11428571]\n",
      "JobInvolvement: [0.66666667 0.33333333 1.         0.        ]\n",
      "JobLevel: [0.25 0.   0.5  0.75 1.  ]\n",
      "JobSatisfaction: [1.         0.33333333 0.66666667 0.        ]\n",
      "MonthlyIncome: [0.26245392 0.21700895 0.0569247  ... 0.47298578 0.23070037 0.1787783 ]\n",
      "MonthlyRate: [0.6980526  0.9160008  0.01212608 ... 0.12366995 0.44766111 0.32660108]\n",
      "NumCompaniesWorked: [0.88888889 0.11111111 0.66666667 1.         0.         0.44444444\n",
      " 0.55555556 0.22222222 0.77777778 0.33333333]\n",
      "OverTime: [1 0]\n",
      "PercentSalaryHike: [0.         0.85714286 0.28571429 0.07142857 0.14285714 0.64285714\n",
      " 0.78571429 0.71428571 0.42857143 0.21428571 0.35714286 0.5\n",
      " 0.57142857 0.92857143 1.        ]\n",
      "PerformanceRating: [0. 1.]\n",
      "RelationshipSatisfaction: [0.         1.         0.33333333 0.66666667]\n",
      "StockOptionLevel: [0.         0.33333333 1.         0.66666667]\n",
      "TotalWorkingYears: [0.2   0.25  0.175 0.15  0.3   0.025 0.425 0.125 0.075 0.775 0.325 0.\n",
      " 0.65  0.6   0.55  0.225 0.475 0.05  0.575 0.35  0.375 0.1   0.725 0.7\n",
      " 0.525 0.625 0.5   0.275 0.4   0.925 0.95  0.75  1.    0.45  0.9   0.85\n",
      " 0.8   0.825 0.875 0.675]\n",
      "TrainingTimesLastYear: [0.         0.5        0.33333333 0.83333333 0.16666667 0.66666667\n",
      " 1.        ]\n",
      "WorkLifeBalance: [0.         0.66666667 0.33333333 1.        ]\n",
      "YearsAtCompany: [0.15  0.25  0.    0.2   0.05  0.175 0.025 0.225 0.125 0.1   0.625 0.075\n",
      " 0.3   0.35  0.55  0.375 0.675 0.525 0.425 0.275 0.325 0.925 0.4   0.5\n",
      " 1.    0.6   0.825 0.475 0.9   0.45  0.725 0.775 0.8   0.85  0.65  0.75\n",
      " 0.575]\n",
      "YearsInCurrentRole: [0.22222222 0.38888889 0.         0.11111111 0.27777778 0.5\n",
      " 0.44444444 0.16666667 0.33333333 0.72222222 0.05555556 0.83333333\n",
      " 0.77777778 0.88888889 0.61111111 0.55555556 0.66666667 1.\n",
      " 0.94444444]\n",
      "YearsSinceLastPromotion: [0.         0.06666667 0.2        0.13333333 0.46666667 0.26666667\n",
      " 0.53333333 0.4        0.33333333 1.         0.6        0.86666667\n",
      " 0.8        0.66666667 0.73333333 0.93333333]\n",
      "YearsWithCurrManager: [0.29411765 0.41176471 0.         0.11764706 0.35294118 0.47058824\n",
      " 0.17647059 0.64705882 1.         0.05882353 0.23529412 0.70588235\n",
      " 0.52941176 0.58823529 0.88235294 0.76470588 0.94117647 0.82352941]\n",
      "BusinessTravel_Non-Travel: [0 1]\n",
      "BusinessTravel_Travel_Frequently: [0 1]\n",
      "BusinessTravel_Travel_Rarely: [1 0]\n",
      "Department_Human Resources: [0 1]\n",
      "Department_Research & Development: [0 1]\n",
      "Department_Sales: [1 0]\n",
      "EducationField_Human Resources: [0 1]\n",
      "EducationField_Life Sciences: [1 0]\n",
      "EducationField_Marketing: [0 1]\n",
      "EducationField_Medical: [0 1]\n",
      "EducationField_Other: [0 1]\n",
      "EducationField_Technical Degree: [0 1]\n",
      "JobRole_Healthcare Representative: [0 1]\n",
      "JobRole_Human Resources: [0 1]\n",
      "JobRole_Laboratory Technician: [0 1]\n",
      "JobRole_Manager: [0 1]\n",
      "JobRole_Manufacturing Director: [0 1]\n",
      "JobRole_Research Director: [0 1]\n",
      "JobRole_Research Scientist: [0 1]\n",
      "JobRole_Sales Executive: [1 0]\n",
      "JobRole_Sales Representative: [0 1]\n",
      "MaritalStatus_Divorced: [0 1]\n",
      "MaritalStatus_Married: [0 1]\n",
      "MaritalStatus_Single: [1 0]\n"
     ]
    }
   ],
   "source": [
    "for col in df:\n",
    "    print(f'{col}: {df[col].unique()}')"
   ]
  },
  {
   "cell_type": "code",
   "execution_count": 198,
   "metadata": {},
   "outputs": [
    {
     "data": {
      "text/plain": [
       "Age                                  float64\n",
       "Attrition                              int64\n",
       "DailyRate                            float64\n",
       "DistanceFromHome                     float64\n",
       "Education                            float64\n",
       "EmployeeNumber                       float64\n",
       "EnvironmentSatisfaction              float64\n",
       "Gender                                 int64\n",
       "HourlyRate                           float64\n",
       "JobInvolvement                       float64\n",
       "JobLevel                             float64\n",
       "JobSatisfaction                      float64\n",
       "MonthlyIncome                        float64\n",
       "MonthlyRate                          float64\n",
       "NumCompaniesWorked                   float64\n",
       "OverTime                               int64\n",
       "PercentSalaryHike                    float64\n",
       "PerformanceRating                    float64\n",
       "RelationshipSatisfaction             float64\n",
       "StockOptionLevel                     float64\n",
       "TotalWorkingYears                    float64\n",
       "TrainingTimesLastYear                float64\n",
       "WorkLifeBalance                      float64\n",
       "YearsAtCompany                       float64\n",
       "YearsInCurrentRole                   float64\n",
       "YearsSinceLastPromotion              float64\n",
       "YearsWithCurrManager                 float64\n",
       "BusinessTravel_Non-Travel              uint8\n",
       "BusinessTravel_Travel_Frequently       uint8\n",
       "BusinessTravel_Travel_Rarely           uint8\n",
       "Department_Human Resources             uint8\n",
       "Department_Research & Development      uint8\n",
       "Department_Sales                       uint8\n",
       "EducationField_Human Resources         uint8\n",
       "EducationField_Life Sciences           uint8\n",
       "EducationField_Marketing               uint8\n",
       "EducationField_Medical                 uint8\n",
       "EducationField_Other                   uint8\n",
       "EducationField_Technical Degree        uint8\n",
       "JobRole_Healthcare Representative      uint8\n",
       "JobRole_Human Resources                uint8\n",
       "JobRole_Laboratory Technician          uint8\n",
       "JobRole_Manager                        uint8\n",
       "JobRole_Manufacturing Director         uint8\n",
       "JobRole_Research Director              uint8\n",
       "JobRole_Research Scientist             uint8\n",
       "JobRole_Sales Executive                uint8\n",
       "JobRole_Sales Representative           uint8\n",
       "MaritalStatus_Divorced                 uint8\n",
       "MaritalStatus_Married                  uint8\n",
       "MaritalStatus_Single                   uint8\n",
       "dtype: object"
      ]
     },
     "execution_count": 198,
     "metadata": {},
     "output_type": "execute_result"
    }
   ],
   "source": [
    "df.dtypes"
   ]
  },
  {
   "cell_type": "code",
   "execution_count": 199,
   "metadata": {},
   "outputs": [
    {
     "data": {
      "text/plain": [
       "(1470, 51)"
      ]
     },
     "execution_count": 199,
     "metadata": {},
     "output_type": "execute_result"
    }
   ],
   "source": [
    "df.shape"
   ]
  },
  {
   "cell_type": "markdown",
   "metadata": {},
   "source": [
    "**Split (Train & Test)**"
   ]
  },
  {
   "cell_type": "code",
   "execution_count": 200,
   "metadata": {},
   "outputs": [],
   "source": [
    "X = df.drop('Attrition',axis='columns')\n",
    "y = df['Attrition']"
   ]
  },
  {
   "cell_type": "code",
   "execution_count": 201,
   "metadata": {},
   "outputs": [
    {
     "data": {
      "text/plain": [
       "Attrition\n",
       "0    1233\n",
       "1     237\n",
       "Name: count, dtype: int64"
      ]
     },
     "execution_count": 201,
     "metadata": {},
     "output_type": "execute_result"
    }
   ],
   "source": [
    "y.value_counts()"
   ]
  },
  {
   "cell_type": "markdown",
   "metadata": {},
   "source": [
    "**Handling Our Imbalance dataset by SMOTE method (Synthetic Minority Oversampling Technique)**<br>\n",
    "SMOTE (Synthetic Minority Over-sampling Technique) is a method used to address the problem of imbalanced datasets in machine learning.<br>Also it generates synthetic samples by creating new data points that lie along the line segments between existing data points in the minority class. This approach avoids simply duplicating minority class samples and instead introduces more diversity to the dataset."
   ]
  },
  {
   "cell_type": "code",
   "execution_count": 202,
   "metadata": {},
   "outputs": [
    {
     "data": {
      "text/plain": [
       "Attrition\n",
       "1    1233\n",
       "0    1233\n",
       "Name: count, dtype: int64"
      ]
     },
     "execution_count": 202,
     "metadata": {},
     "output_type": "execute_result"
    }
   ],
   "source": [
    "#Handling Our Imbalance dataset by SMOTE method (Synthetic Minority Oversampling Technique)\n",
    "from imblearn.over_sampling import SMOTE\n",
    "smote = SMOTE(sampling_strategy='minority')\n",
    "X_sm, y_sm = smote.fit_resample(X, y)\n",
    "y_sm.value_counts()"
   ]
  },
  {
   "cell_type": "code",
   "execution_count": 203,
   "metadata": {},
   "outputs": [],
   "source": [
    "from sklearn.model_selection import train_test_split\n",
    "X_train, X_test, y_train, y_test = train_test_split(X_sm,y_sm,test_size=0.30,random_state=15,stratify=y_sm)"
   ]
  },
  {
   "cell_type": "code",
   "execution_count": 204,
   "metadata": {},
   "outputs": [
    {
     "data": {
      "text/plain": [
       "Attrition\n",
       "0    863\n",
       "1    863\n",
       "Name: count, dtype: int64"
      ]
     },
     "execution_count": 204,
     "metadata": {},
     "output_type": "execute_result"
    }
   ],
   "source": [
    "y_train.value_counts()"
   ]
  },
  {
   "cell_type": "code",
   "execution_count": 205,
   "metadata": {},
   "outputs": [
    {
     "data": {
      "text/plain": [
       "Attrition\n",
       "0    370\n",
       "1    370\n",
       "Name: count, dtype: int64"
      ]
     },
     "execution_count": 205,
     "metadata": {},
     "output_type": "execute_result"
    }
   ],
   "source": [
    "y_test.value_counts()"
   ]
  },
  {
   "cell_type": "code",
   "execution_count": 206,
   "metadata": {},
   "outputs": [
    {
     "data": {
      "text/plain": [
       "(1726, 50)"
      ]
     },
     "execution_count": 206,
     "metadata": {},
     "output_type": "execute_result"
    }
   ],
   "source": [
    "X_train.shape"
   ]
  },
  {
   "cell_type": "code",
   "execution_count": 207,
   "metadata": {},
   "outputs": [
    {
     "data": {
      "text/plain": [
       "(740, 50)"
      ]
     },
     "execution_count": 207,
     "metadata": {},
     "output_type": "execute_result"
    }
   ],
   "source": [
    "X_test.shape"
   ]
  },
  {
   "cell_type": "code",
   "execution_count": 208,
   "metadata": {},
   "outputs": [
    {
     "data": {
      "text/html": [
       "<div>\n",
       "<style scoped>\n",
       "    .dataframe tbody tr th:only-of-type {\n",
       "        vertical-align: middle;\n",
       "    }\n",
       "\n",
       "    .dataframe tbody tr th {\n",
       "        vertical-align: top;\n",
       "    }\n",
       "\n",
       "    .dataframe thead th {\n",
       "        text-align: right;\n",
       "    }\n",
       "</style>\n",
       "<table border=\"1\" class=\"dataframe\">\n",
       "  <thead>\n",
       "    <tr style=\"text-align: right;\">\n",
       "      <th></th>\n",
       "      <th>Age</th>\n",
       "      <th>DailyRate</th>\n",
       "      <th>DistanceFromHome</th>\n",
       "      <th>Education</th>\n",
       "      <th>EmployeeNumber</th>\n",
       "      <th>EnvironmentSatisfaction</th>\n",
       "      <th>Gender</th>\n",
       "      <th>HourlyRate</th>\n",
       "      <th>JobInvolvement</th>\n",
       "      <th>JobLevel</th>\n",
       "      <th>...</th>\n",
       "      <th>JobRole_Laboratory Technician</th>\n",
       "      <th>JobRole_Manager</th>\n",
       "      <th>JobRole_Manufacturing Director</th>\n",
       "      <th>JobRole_Research Director</th>\n",
       "      <th>JobRole_Research Scientist</th>\n",
       "      <th>JobRole_Sales Executive</th>\n",
       "      <th>JobRole_Sales Representative</th>\n",
       "      <th>MaritalStatus_Divorced</th>\n",
       "      <th>MaritalStatus_Married</th>\n",
       "      <th>MaritalStatus_Single</th>\n",
       "    </tr>\n",
       "  </thead>\n",
       "  <tbody>\n",
       "    <tr>\n",
       "      <th>643</th>\n",
       "      <td>0.571429</td>\n",
       "      <td>0.832498</td>\n",
       "      <td>0.071429</td>\n",
       "      <td>0.500000</td>\n",
       "      <td>0.432027</td>\n",
       "      <td>0.666667</td>\n",
       "      <td>1</td>\n",
       "      <td>0.928571</td>\n",
       "      <td>1.000000</td>\n",
       "      <td>0.250000</td>\n",
       "      <td>...</td>\n",
       "      <td>1</td>\n",
       "      <td>0</td>\n",
       "      <td>0</td>\n",
       "      <td>0</td>\n",
       "      <td>0</td>\n",
       "      <td>0</td>\n",
       "      <td>0</td>\n",
       "      <td>0</td>\n",
       "      <td>1</td>\n",
       "      <td>0</td>\n",
       "    </tr>\n",
       "    <tr>\n",
       "      <th>77</th>\n",
       "      <td>0.642857</td>\n",
       "      <td>0.065140</td>\n",
       "      <td>0.178571</td>\n",
       "      <td>0.750000</td>\n",
       "      <td>0.048379</td>\n",
       "      <td>1.000000</td>\n",
       "      <td>0</td>\n",
       "      <td>0.314286</td>\n",
       "      <td>0.666667</td>\n",
       "      <td>0.500000</td>\n",
       "      <td>...</td>\n",
       "      <td>0</td>\n",
       "      <td>0</td>\n",
       "      <td>0</td>\n",
       "      <td>1</td>\n",
       "      <td>0</td>\n",
       "      <td>0</td>\n",
       "      <td>0</td>\n",
       "      <td>0</td>\n",
       "      <td>1</td>\n",
       "      <td>0</td>\n",
       "    </tr>\n",
       "    <tr>\n",
       "      <th>1492</th>\n",
       "      <td>0.245506</td>\n",
       "      <td>0.679279</td>\n",
       "      <td>0.254967</td>\n",
       "      <td>0.206954</td>\n",
       "      <td>0.378199</td>\n",
       "      <td>0.862031</td>\n",
       "      <td>0</td>\n",
       "      <td>0.182309</td>\n",
       "      <td>0.666667</td>\n",
       "      <td>0.000000</td>\n",
       "      <td>...</td>\n",
       "      <td>1</td>\n",
       "      <td>0</td>\n",
       "      <td>0</td>\n",
       "      <td>0</td>\n",
       "      <td>0</td>\n",
       "      <td>0</td>\n",
       "      <td>0</td>\n",
       "      <td>0</td>\n",
       "      <td>1</td>\n",
       "      <td>0</td>\n",
       "    </tr>\n",
       "    <tr>\n",
       "      <th>932</th>\n",
       "      <td>0.261905</td>\n",
       "      <td>0.503937</td>\n",
       "      <td>0.214286</td>\n",
       "      <td>0.500000</td>\n",
       "      <td>0.627963</td>\n",
       "      <td>0.333333</td>\n",
       "      <td>1</td>\n",
       "      <td>0.128571</td>\n",
       "      <td>0.666667</td>\n",
       "      <td>0.000000</td>\n",
       "      <td>...</td>\n",
       "      <td>1</td>\n",
       "      <td>0</td>\n",
       "      <td>0</td>\n",
       "      <td>0</td>\n",
       "      <td>0</td>\n",
       "      <td>0</td>\n",
       "      <td>0</td>\n",
       "      <td>1</td>\n",
       "      <td>0</td>\n",
       "      <td>0</td>\n",
       "    </tr>\n",
       "    <tr>\n",
       "      <th>83</th>\n",
       "      <td>0.476190</td>\n",
       "      <td>0.337151</td>\n",
       "      <td>0.178571</td>\n",
       "      <td>0.500000</td>\n",
       "      <td>0.051282</td>\n",
       "      <td>0.333333</td>\n",
       "      <td>1</td>\n",
       "      <td>0.700000</td>\n",
       "      <td>0.000000</td>\n",
       "      <td>0.250000</td>\n",
       "      <td>...</td>\n",
       "      <td>0</td>\n",
       "      <td>0</td>\n",
       "      <td>0</td>\n",
       "      <td>0</td>\n",
       "      <td>1</td>\n",
       "      <td>0</td>\n",
       "      <td>0</td>\n",
       "      <td>1</td>\n",
       "      <td>0</td>\n",
       "      <td>0</td>\n",
       "    </tr>\n",
       "    <tr>\n",
       "      <th>599</th>\n",
       "      <td>0.428571</td>\n",
       "      <td>0.672155</td>\n",
       "      <td>0.428571</td>\n",
       "      <td>0.500000</td>\n",
       "      <td>0.400581</td>\n",
       "      <td>0.666667</td>\n",
       "      <td>0</td>\n",
       "      <td>0.085714</td>\n",
       "      <td>0.666667</td>\n",
       "      <td>0.000000</td>\n",
       "      <td>...</td>\n",
       "      <td>0</td>\n",
       "      <td>0</td>\n",
       "      <td>0</td>\n",
       "      <td>0</td>\n",
       "      <td>0</td>\n",
       "      <td>0</td>\n",
       "      <td>0</td>\n",
       "      <td>0</td>\n",
       "      <td>1</td>\n",
       "      <td>0</td>\n",
       "    </tr>\n",
       "    <tr>\n",
       "      <th>1870</th>\n",
       "      <td>0.117135</td>\n",
       "      <td>0.506165</td>\n",
       "      <td>0.619764</td>\n",
       "      <td>0.148595</td>\n",
       "      <td>0.520635</td>\n",
       "      <td>0.567604</td>\n",
       "      <td>0</td>\n",
       "      <td>0.597303</td>\n",
       "      <td>0.198126</td>\n",
       "      <td>0.000000</td>\n",
       "      <td>...</td>\n",
       "      <td>0</td>\n",
       "      <td>0</td>\n",
       "      <td>0</td>\n",
       "      <td>0</td>\n",
       "      <td>0</td>\n",
       "      <td>0</td>\n",
       "      <td>1</td>\n",
       "      <td>0</td>\n",
       "      <td>0</td>\n",
       "      <td>1</td>\n",
       "    </tr>\n",
       "    <tr>\n",
       "      <th>1686</th>\n",
       "      <td>0.269754</td>\n",
       "      <td>0.110974</td>\n",
       "      <td>0.349033</td>\n",
       "      <td>0.572161</td>\n",
       "      <td>0.232437</td>\n",
       "      <td>0.762882</td>\n",
       "      <td>0</td>\n",
       "      <td>0.273930</td>\n",
       "      <td>0.333333</td>\n",
       "      <td>0.322161</td>\n",
       "      <td>...</td>\n",
       "      <td>0</td>\n",
       "      <td>0</td>\n",
       "      <td>0</td>\n",
       "      <td>0</td>\n",
       "      <td>0</td>\n",
       "      <td>1</td>\n",
       "      <td>0</td>\n",
       "      <td>0</td>\n",
       "      <td>0</td>\n",
       "      <td>1</td>\n",
       "    </tr>\n",
       "    <tr>\n",
       "      <th>2065</th>\n",
       "      <td>0.563133</td>\n",
       "      <td>0.574424</td>\n",
       "      <td>0.071429</td>\n",
       "      <td>0.500000</td>\n",
       "      <td>0.596874</td>\n",
       "      <td>0.000000</td>\n",
       "      <td>0</td>\n",
       "      <td>0.846389</td>\n",
       "      <td>0.666667</td>\n",
       "      <td>0.000000</td>\n",
       "      <td>...</td>\n",
       "      <td>1</td>\n",
       "      <td>0</td>\n",
       "      <td>0</td>\n",
       "      <td>0</td>\n",
       "      <td>0</td>\n",
       "      <td>0</td>\n",
       "      <td>0</td>\n",
       "      <td>0</td>\n",
       "      <td>1</td>\n",
       "      <td>0</td>\n",
       "    </tr>\n",
       "    <tr>\n",
       "      <th>10</th>\n",
       "      <td>0.404762</td>\n",
       "      <td>0.506084</td>\n",
       "      <td>0.535714</td>\n",
       "      <td>0.500000</td>\n",
       "      <td>0.006289</td>\n",
       "      <td>0.000000</td>\n",
       "      <td>0</td>\n",
       "      <td>0.771429</td>\n",
       "      <td>1.000000</td>\n",
       "      <td>0.000000</td>\n",
       "      <td>...</td>\n",
       "      <td>1</td>\n",
       "      <td>0</td>\n",
       "      <td>0</td>\n",
       "      <td>0</td>\n",
       "      <td>0</td>\n",
       "      <td>0</td>\n",
       "      <td>0</td>\n",
       "      <td>0</td>\n",
       "      <td>1</td>\n",
       "      <td>0</td>\n",
       "    </tr>\n",
       "  </tbody>\n",
       "</table>\n",
       "<p>10 rows × 50 columns</p>\n",
       "</div>"
      ],
      "text/plain": [
       "           Age  DailyRate  DistanceFromHome  Education  EmployeeNumber  \\\n",
       "643   0.571429   0.832498          0.071429   0.500000        0.432027   \n",
       "77    0.642857   0.065140          0.178571   0.750000        0.048379   \n",
       "1492  0.245506   0.679279          0.254967   0.206954        0.378199   \n",
       "932   0.261905   0.503937          0.214286   0.500000        0.627963   \n",
       "83    0.476190   0.337151          0.178571   0.500000        0.051282   \n",
       "599   0.428571   0.672155          0.428571   0.500000        0.400581   \n",
       "1870  0.117135   0.506165          0.619764   0.148595        0.520635   \n",
       "1686  0.269754   0.110974          0.349033   0.572161        0.232437   \n",
       "2065  0.563133   0.574424          0.071429   0.500000        0.596874   \n",
       "10    0.404762   0.506084          0.535714   0.500000        0.006289   \n",
       "\n",
       "      EnvironmentSatisfaction  Gender  HourlyRate  JobInvolvement  JobLevel  \\\n",
       "643                  0.666667       1    0.928571        1.000000  0.250000   \n",
       "77                   1.000000       0    0.314286        0.666667  0.500000   \n",
       "1492                 0.862031       0    0.182309        0.666667  0.000000   \n",
       "932                  0.333333       1    0.128571        0.666667  0.000000   \n",
       "83                   0.333333       1    0.700000        0.000000  0.250000   \n",
       "599                  0.666667       0    0.085714        0.666667  0.000000   \n",
       "1870                 0.567604       0    0.597303        0.198126  0.000000   \n",
       "1686                 0.762882       0    0.273930        0.333333  0.322161   \n",
       "2065                 0.000000       0    0.846389        0.666667  0.000000   \n",
       "10                   0.000000       0    0.771429        1.000000  0.000000   \n",
       "\n",
       "      ...  JobRole_Laboratory Technician  JobRole_Manager  \\\n",
       "643   ...                              1                0   \n",
       "77    ...                              0                0   \n",
       "1492  ...                              1                0   \n",
       "932   ...                              1                0   \n",
       "83    ...                              0                0   \n",
       "599   ...                              0                0   \n",
       "1870  ...                              0                0   \n",
       "1686  ...                              0                0   \n",
       "2065  ...                              1                0   \n",
       "10    ...                              1                0   \n",
       "\n",
       "      JobRole_Manufacturing Director  JobRole_Research Director  \\\n",
       "643                                0                          0   \n",
       "77                                 0                          1   \n",
       "1492                               0                          0   \n",
       "932                                0                          0   \n",
       "83                                 0                          0   \n",
       "599                                0                          0   \n",
       "1870                               0                          0   \n",
       "1686                               0                          0   \n",
       "2065                               0                          0   \n",
       "10                                 0                          0   \n",
       "\n",
       "      JobRole_Research Scientist  JobRole_Sales Executive  \\\n",
       "643                            0                        0   \n",
       "77                             0                        0   \n",
       "1492                           0                        0   \n",
       "932                            0                        0   \n",
       "83                             1                        0   \n",
       "599                            0                        0   \n",
       "1870                           0                        0   \n",
       "1686                           0                        1   \n",
       "2065                           0                        0   \n",
       "10                             0                        0   \n",
       "\n",
       "      JobRole_Sales Representative  MaritalStatus_Divorced  \\\n",
       "643                              0                       0   \n",
       "77                               0                       0   \n",
       "1492                             0                       0   \n",
       "932                              0                       1   \n",
       "83                               0                       1   \n",
       "599                              0                       0   \n",
       "1870                             1                       0   \n",
       "1686                             0                       0   \n",
       "2065                             0                       0   \n",
       "10                               0                       0   \n",
       "\n",
       "      MaritalStatus_Married  MaritalStatus_Single  \n",
       "643                       1                     0  \n",
       "77                        1                     0  \n",
       "1492                      1                     0  \n",
       "932                       0                     0  \n",
       "83                        0                     0  \n",
       "599                       1                     0  \n",
       "1870                      0                     1  \n",
       "1686                      0                     1  \n",
       "2065                      1                     0  \n",
       "10                        1                     0  \n",
       "\n",
       "[10 rows x 50 columns]"
      ]
     },
     "execution_count": 208,
     "metadata": {},
     "output_type": "execute_result"
    }
   ],
   "source": [
    "X_train[:10]"
   ]
  },
  {
   "cell_type": "code",
   "execution_count": 209,
   "metadata": {},
   "outputs": [
    {
     "data": {
      "text/plain": [
       "50"
      ]
     },
     "execution_count": 209,
     "metadata": {},
     "output_type": "execute_result"
    }
   ],
   "source": [
    "len(X_train.columns)"
   ]
  },
  {
   "cell_type": "markdown",
   "metadata": {},
   "source": [
    "**Model**<br>\n",
    "*) Its a feedforward neural network for binary classification.<br>\n",
    "*) 3 hidden layers with ReLU activation functions and an output layer with a sigmoid activation function.<br>\n",
    "*) Early stopping is employed to prevent overfitting, and the Adam optimizer is used for optimization."
   ]
  },
  {
   "cell_type": "code",
   "execution_count": 210,
   "metadata": {},
   "outputs": [
    {
     "name": "stdout",
     "output_type": "stream",
     "text": [
      "Epoch 1/50\n",
      "\u001b[1m54/54\u001b[0m \u001b[32m━━━━━━━━━━━━━━━━━━━━\u001b[0m\u001b[37m\u001b[0m \u001b[1m2s\u001b[0m 7ms/step - accuracy: 0.6015 - loss: 0.6639 - val_accuracy: 0.7284 - val_loss: 0.5758\n",
      "Epoch 2/50\n",
      "\u001b[1m54/54\u001b[0m \u001b[32m━━━━━━━━━━━━━━━━━━━━\u001b[0m\u001b[37m\u001b[0m \u001b[1m0s\u001b[0m 2ms/step - accuracy: 0.7532 - loss: 0.5486 - val_accuracy: 0.7838 - val_loss: 0.4941\n",
      "Epoch 3/50\n",
      "\u001b[1m54/54\u001b[0m \u001b[32m━━━━━━━━━━━━━━━━━━━━\u001b[0m\u001b[37m\u001b[0m \u001b[1m0s\u001b[0m 3ms/step - accuracy: 0.7946 - loss: 0.4712 - val_accuracy: 0.8351 - val_loss: 0.4127\n",
      "Epoch 4/50\n",
      "\u001b[1m54/54\u001b[0m \u001b[32m━━━━━━━━━━━━━━━━━━━━\u001b[0m\u001b[37m\u001b[0m \u001b[1m0s\u001b[0m 3ms/step - accuracy: 0.8444 - loss: 0.3852 - val_accuracy: 0.8541 - val_loss: 0.3836\n",
      "Epoch 5/50\n",
      "\u001b[1m54/54\u001b[0m \u001b[32m━━━━━━━━━━━━━━━━━━━━\u001b[0m\u001b[37m\u001b[0m \u001b[1m0s\u001b[0m 3ms/step - accuracy: 0.8360 - loss: 0.3703 - val_accuracy: 0.8527 - val_loss: 0.3671\n",
      "Epoch 6/50\n",
      "\u001b[1m54/54\u001b[0m \u001b[32m━━━━━━━━━━━━━━━━━━━━\u001b[0m\u001b[37m\u001b[0m \u001b[1m0s\u001b[0m 2ms/step - accuracy: 0.8660 - loss: 0.3437 - val_accuracy: 0.8500 - val_loss: 0.3564\n",
      "Epoch 7/50\n",
      "\u001b[1m54/54\u001b[0m \u001b[32m━━━━━━━━━━━━━━━━━━━━\u001b[0m\u001b[37m\u001b[0m \u001b[1m0s\u001b[0m 3ms/step - accuracy: 0.8868 - loss: 0.2891 - val_accuracy: 0.8730 - val_loss: 0.3245\n",
      "Epoch 8/50\n",
      "\u001b[1m54/54\u001b[0m \u001b[32m━━━━━━━━━━━━━━━━━━━━\u001b[0m\u001b[37m\u001b[0m \u001b[1m0s\u001b[0m 2ms/step - accuracy: 0.9062 - loss: 0.2536 - val_accuracy: 0.8730 - val_loss: 0.3104\n",
      "Epoch 9/50\n",
      "\u001b[1m54/54\u001b[0m \u001b[32m━━━━━━━━━━━━━━━━━━━━\u001b[0m\u001b[37m\u001b[0m \u001b[1m0s\u001b[0m 2ms/step - accuracy: 0.8982 - loss: 0.2467 - val_accuracy: 0.8757 - val_loss: 0.3109\n",
      "Epoch 10/50\n",
      "\u001b[1m54/54\u001b[0m \u001b[32m━━━━━━━━━━━━━━━━━━━━\u001b[0m\u001b[37m\u001b[0m \u001b[1m0s\u001b[0m 3ms/step - accuracy: 0.9256 - loss: 0.2004 - val_accuracy: 0.8838 - val_loss: 0.2848\n",
      "Epoch 11/50\n",
      "\u001b[1m54/54\u001b[0m \u001b[32m━━━━━━━━━━━━━━━━━━━━\u001b[0m\u001b[37m\u001b[0m \u001b[1m0s\u001b[0m 3ms/step - accuracy: 0.9458 - loss: 0.1745 - val_accuracy: 0.8919 - val_loss: 0.2743\n",
      "Epoch 12/50\n",
      "\u001b[1m54/54\u001b[0m \u001b[32m━━━━━━━━━━━━━━━━━━━━\u001b[0m\u001b[37m\u001b[0m \u001b[1m0s\u001b[0m 3ms/step - accuracy: 0.9319 - loss: 0.1722 - val_accuracy: 0.8878 - val_loss: 0.2797\n",
      "Epoch 13/50\n",
      "\u001b[1m54/54\u001b[0m \u001b[32m━━━━━━━━━━━━━━━━━━━━\u001b[0m\u001b[37m\u001b[0m \u001b[1m0s\u001b[0m 3ms/step - accuracy: 0.9510 - loss: 0.1528 - val_accuracy: 0.8973 - val_loss: 0.2670\n",
      "Epoch 14/50\n",
      "\u001b[1m54/54\u001b[0m \u001b[32m━━━━━━━━━━━━━━━━━━━━\u001b[0m\u001b[37m\u001b[0m \u001b[1m0s\u001b[0m 3ms/step - accuracy: 0.9599 - loss: 0.1223 - val_accuracy: 0.8986 - val_loss: 0.2724\n",
      "Epoch 15/50\n",
      "\u001b[1m54/54\u001b[0m \u001b[32m━━━━━━━━━━━━━━━━━━━━\u001b[0m\u001b[37m\u001b[0m \u001b[1m0s\u001b[0m 3ms/step - accuracy: 0.9630 - loss: 0.1178 - val_accuracy: 0.8986 - val_loss: 0.2712\n",
      "Epoch 16/50\n",
      "\u001b[1m54/54\u001b[0m \u001b[32m━━━━━━━━━━━━━━━━━━━━\u001b[0m\u001b[37m\u001b[0m \u001b[1m0s\u001b[0m 3ms/step - accuracy: 0.9702 - loss: 0.1047 - val_accuracy: 0.8973 - val_loss: 0.2718\n"
     ]
    },
    {
     "data": {
      "text/plain": [
       "<keras.src.callbacks.history.History at 0x1f30911f8d0>"
      ]
     },
     "execution_count": 210,
     "metadata": {},
     "output_type": "execute_result"
    }
   ],
   "source": [
    "import tensorflow as tf\n",
    "from tensorflow import keras\n",
    "\n",
    "\n",
    "model = keras.Sequential([\n",
    "    keras.layers.Dense(65, input_shape=(50,), activation='relu'),\n",
    "    keras.layers.Dense(35, activation='relu'),\n",
    "    keras.layers.Dense(15, activation='relu'),\n",
    "    keras.layers.Dense(1, activation='sigmoid')\n",
    "])\n",
    "\n",
    "# Add EarlyStopping callback\n",
    "early_stopping = keras.callbacks.EarlyStopping(\n",
    "    monitor='val_loss',                                 # Monitor the validation loss\n",
    "    patience=3,                                         # Stop training after 3 epochs of no improvement\n",
    "    restore_best_weights=True                           # Restore model weights from the epoch with the best loss\n",
    ")\n",
    "\n",
    "\n",
    "\n",
    "model.compile(optimizer=keras.optimizers.Adam(learning_rate=0.001),\n",
    "              loss='binary_crossentropy',\n",
    "              metrics=['accuracy'])\n",
    "\n",
    "model.fit(X_train, y_train, \n",
    "          validation_data=(X_test, y_test),  \n",
    "          epochs=50, \n",
    "          callbacks=[early_stopping])"
   ]
  },
  {
   "cell_type": "code",
   "execution_count": 211,
   "metadata": {},
   "outputs": [
    {
     "name": "stdout",
     "output_type": "stream",
     "text": [
      "\u001b[1m24/24\u001b[0m \u001b[32m━━━━━━━━━━━━━━━━━━━━\u001b[0m\u001b[37m\u001b[0m \u001b[1m0s\u001b[0m 1ms/step - accuracy: 0.9150 - loss: 0.2280 \n"
     ]
    },
    {
     "data": {
      "text/plain": [
       "[0.2670019268989563, 0.8972973227500916]"
      ]
     },
     "execution_count": 211,
     "metadata": {},
     "output_type": "execute_result"
    }
   ],
   "source": [
    "model.evaluate(X_test, y_test)"
   ]
  },
  {
   "cell_type": "code",
   "execution_count": 212,
   "metadata": {},
   "outputs": [
    {
     "name": "stdout",
     "output_type": "stream",
     "text": [
      "\u001b[1m24/24\u001b[0m \u001b[32m━━━━━━━━━━━━━━━━━━━━\u001b[0m\u001b[37m\u001b[0m \u001b[1m0s\u001b[0m 3ms/step\n"
     ]
    }
   ],
   "source": [
    "y_pred= model.predict(X_test)"
   ]
  },
  {
   "cell_type": "code",
   "execution_count": 213,
   "metadata": {},
   "outputs": [
    {
     "data": {
      "text/plain": [
       "[0, 1, 1, 0, 0, 0, 1, 0, 1, 0]"
      ]
     },
     "execution_count": 213,
     "metadata": {},
     "output_type": "execute_result"
    }
   ],
   "source": [
    "y_predicted = []\n",
    "for element in y_pred:\n",
    "    if element > 0.5:\n",
    "        y_predicted.append(1)\n",
    "    else:\n",
    "        y_predicted.append(0)\n",
    "\n",
    "y_predicted[:10]"
   ]
  },
  {
   "cell_type": "code",
   "execution_count": 214,
   "metadata": {},
   "outputs": [
    {
     "data": {
      "text/plain": [
       "1126    0\n",
       "2363    1\n",
       "709     1\n",
       "641     0\n",
       "290     0\n",
       "338     0\n",
       "1554    1\n",
       "1208    0\n",
       "2184    1\n",
       "834     0\n",
       "Name: Attrition, dtype: int64"
      ]
     },
     "execution_count": 214,
     "metadata": {},
     "output_type": "execute_result"
    }
   ],
   "source": [
    "y_test[:10]"
   ]
  },
  {
   "cell_type": "markdown",
   "metadata": {},
   "source": [
    "**Classification Report**"
   ]
  },
  {
   "cell_type": "code",
   "execution_count": 215,
   "metadata": {},
   "outputs": [
    {
     "name": "stdout",
     "output_type": "stream",
     "text": [
      "              precision    recall  f1-score   support\n",
      "\n",
      "           0       0.91      0.89      0.90       370\n",
      "           1       0.89      0.91      0.90       370\n",
      "\n",
      "    accuracy                           0.90       740\n",
      "   macro avg       0.90      0.90      0.90       740\n",
      "weighted avg       0.90      0.90      0.90       740\n",
      "\n"
     ]
    }
   ],
   "source": [
    "from sklearn.metrics import confusion_matrix , classification_report\n",
    "\n",
    "print(classification_report(y_test,y_predicted))"
   ]
  },
  {
   "cell_type": "code",
   "execution_count": 216,
   "metadata": {},
   "outputs": [
    {
     "data": {
      "text/plain": [
       "Text(92.25, 0.5, 'Truth')"
      ]
     },
     "execution_count": 216,
     "metadata": {},
     "output_type": "execute_result"
    },
    {
     "data": {
      "image/png": "[encoded data removed]",
      "text/plain": [
       "<Figure size 1000x700 with 2 Axes>"
      ]
     },
     "metadata": {},
     "output_type": "display_data"
    }
   ],
   "source": [
    "cm = tf.math.confusion_matrix(labels=y_test,predictions=y_predicted)\n",
    "\n",
    "plt.figure(figsize = (10,7))\n",
    "sns.heatmap(cm, annot=True, fmt='d')\n",
    "plt.xlabel('Predicted')\n",
    "plt.ylabel('Truth')"
   ]
  }
 ],
 "metadata": {
  "kernelspec": {
   "display_name": "Python 3",
   "language": "python",
   "name": "python3"
  },
  "language_info": {
   "codemirror_mode": {
    "name": "ipython",
    "version": 3
   },
   "file_extension": ".py",
   "mimetype": "text/x-python",
   "name": "python",
   "nbconvert_exporter": "python",
   "pygments_lexer": "ipython3",
   "version": "3.11.7"
  }
 },
 "nbformat": 4,
 "nbformat_minor": 2
}
